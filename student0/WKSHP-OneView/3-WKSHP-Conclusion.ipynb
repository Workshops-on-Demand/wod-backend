{
  "cells": [
    {
      "cell_type": "markdown",
      "metadata": {},
      "source": [
        "![HPEDEVlogo](Pictures/hpedevlogo-NB.JPG)\n",
        "\n",
        "# Thank you for visiting the Hack Shack\n",
        "\n",
        "Powered by [HPE DEV Team](hpedev.io)\n",
        "\n",
        "\n",
        "# Conclusion\n",
        "In this workshop, you experienced examples of PowerShell and Python code working with the OneView API, as well as some raw API calls using curl.\n",
        "\n",
        "Congratulations!\n",
        "\n",
        "# Final Step\n",
        "Please Take a moment to fill out our [survey](https://forms.office.com/Pages/ResponsePage.aspx?id=YSBbEGm2MUuSrCTTBNGV3KHzFdd987lBoQATWJq45DdUMlZMVkZPRlIwSjFMRlBVNEhTQUhVRVRZOS4u)\n",
        "\n",
        "Please use 'File -> Log Out' in the menu to terminate your session\n",
        "\n",
        "# Thank You\n",
        "![ThankYou](Pictures/grommet.jpg)"
      ]
    }
  ],
  "metadata": {
    "kernelspec": {
      "display_name": "Bash",
      "language": "bash",
      "name": "bash"
    },
    "language_info": {
      "codemirror_mode": "shell",
      "file_extension": ".sh",
      "mimetype": "text/x-sh",
      "name": "bash"
    }
  },
  "nbformat": 4,
  "nbformat_minor": 4
}
