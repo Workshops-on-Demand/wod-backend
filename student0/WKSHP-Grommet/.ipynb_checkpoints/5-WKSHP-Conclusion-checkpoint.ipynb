{
 "cells": [
  {
   "cell_type": "markdown",
   "metadata": {},
   "source": [
    "![enter image description here](https://developer.hpe.com/img/hpe-dev-logo-mark-anim.svg?1580730675069 \"HPE DEV Hack Shack\")\n",
    "\n",
    "# Thank you for visiting the Hack Shack\n",
    "\n",
    "Powered by [HPE DEV Team](hpedev.io)\n",
    "\n",
    "\n",
    "# Conclusion\n",
    "\n",
    "In this workshop, you have learned\n",
    "\n",
    "  * What is Grommet?\n",
    "  * Why it is used?\n",
    "  * Designing your own web application using [Grommet Designer](https://designer.grommet.io/)\n",
    "  * Generate the Source code from the design\n",
    "  * Push the source code to GitHub\n",
    "  * Deploying it to [netlify](https://studentxx.netlify.app/) and access from the internet\n",
    "\n",
    "Congratulations!\n",
    "\n",
    "You have successfully designed your app using [grommet designer](https://designer.grommet.io/) and deployed it to [netlify](https://studentxx.netlify.app/).\n",
    "\n",
    "# Final Step\n",
    "Please Take a moment to fill out our [survey](https://forms.office.com/Pages/ResponsePage.aspx?id=YSBbEGm2MUuSrCTTBNGV3KHzFdd987lBoQATWJq45DdUOEZJTFBCUEJDQktPVkcyREVBRDFJOEVMOS4u)\n",
    "\n",
    "# Thank You\n",
    "![ThankYou](Pictures/grommet.jpg)"
   ]
  },
  {
   "cell_type": "markdown",
   "metadata": {},
   "source": []
  }
 ],
 "metadata": {
  "kernelspec": {
   "display_name": "Bash",
   "language": "bash",
   "name": "bash"
  },
  "language_info": {
   "codemirror_mode": "shell",
   "file_extension": ".sh",
   "mimetype": "text/x-sh",
   "name": "bash"
  }
 },
 "nbformat": 4,
 "nbformat_minor": 4
}
