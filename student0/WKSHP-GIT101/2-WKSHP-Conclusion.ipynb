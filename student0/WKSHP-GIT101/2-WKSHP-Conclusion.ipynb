{
 "cells": [
  {
   "cell_type": "markdown",
   "metadata": {},
   "source": [
    "![HPEDEV](Pictures/LogoHPEDEV.png)\n",
    "\n",
    "# Thank you for visiting the Hack Shack\n",
    "\n",
    "Powered by [HPE DEV Team](hpedev.io)\n",
    "\n",
    "\n",
    "# Conclusion\n",
    "Congratulations!\n",
    "In this workshop, you learned the basics of Git. We covered the most common use cases, including:\n",
    "\n",
    "- Use case 1: I’d like to use something from the community\n",
    "- Use case 2: I'd like to report an issue on a project\n",
    "- Use case 3: I'd like to share something with the community\n",
    "- Use case 4: I'd like to contribute code to a project\n",
    "\n",
    "Now that you understand the most important Git commands and have a GitHub account, don’t be shy. Start to contribute!\n",
    "\n",
    "# Final steps\n",
    "### Please take a moment to fill out our [survey](https://forms.office.com/Pages/ResponsePage.aspx?id=YSBbEGm2MUuSrCTTBNGV3KHzFdd987lBoQATWJq45DdUMlZMVkZPRlIwSjFMRlBVNEhTQUhVRVRZOS4u).\n",
    "\n",
    "\n",
    "### And make sure you use `File -> Log Out` menu to terminate your workshop session.\n",
    "\n",
    "# Thank you\n",
    "![ThankYou](Pictures/grommet.jpg)\n"
   ]
  },
  {
   "cell_type": "code",
   "execution_count": null,
   "metadata": {},
   "outputs": [],
   "source": []
  }
 ],
 "metadata": {
  "kernelspec": {
   "display_name": "Bash",
   "language": "bash",
   "name": "bash"
  },
  "language_info": {
   "codemirror_mode": "shell",
   "file_extension": ".sh",
   "mimetype": "text/x-sh",
   "name": "bash"
  }
 },
 "nbformat": 4,
 "nbformat_minor": 4
}
