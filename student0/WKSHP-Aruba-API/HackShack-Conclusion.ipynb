{
  "cells": [
    {
      "cell_type": "markdown",
      "metadata": {},
      "source": [
        "![HPEDEVlogo](Pictures/hpedevlogo-NB.JPG)\n",
        "\n",
        "# Thank you for visiting the Hack Shack\n",
        "\n",
        "Powered by [HPE DEV Team](hpedev.io)\n",
        "\n",
        "\n",
        "# Conclusion\n",
        "\n",
        "We've only had one hour for this session and have keep the content relatively conservative for this first session.\n",
        "For those interested in taking their Aruba automation journey further, please reach out to me, details below, the HPE Hack Shack or your local Aruba SE.\n",
        "\n",
        "joe.neville@hpe.com\n",
        "\n",
        "\n",
        "# Final steps\n",
        "\n",
        "### Please take a moment to fill out our [survey](https://forms.office.com/Pages/ResponsePage.aspx?id=YSBbEGm2MUuSrCTTBNGV3KHzFdd987lBoQATWJq45DdUMlhIRDlJUjhDV0FESU9YNlEyUjNTSFc3Ui4u).\n",
        "\n",
        "### Join the HPE DEV Community by [signing up](https://developer.hpe.com/event/hpe-discover-us-2020?listid=11647678) to the HPE DEV Newsletter and Participate to our raffle to win !! \n",
        "\n",
        "### Learn more about the HPE DEV Community\n",
        "![QRCode](Pictures/QRCode-HPEDEV.png)\n",
        "\n",
        "### And make sure you use `File -> Log Out` menu to terminate your workshop session.\n",
        "\n",
        "# Thank you\n",
        "![ThankYou](Pictures/grommet.jpg)"
      ]
    },
    {
      "cell_type": "code",
      "execution_count": null,
      "metadata": {},
      "outputs": [],
      "source": []
    }
  ],
  "metadata": {
    "kernelspec": {
      "display_name": "Bash",
      "language": "bash",
      "name": "bash"
    },
    "language_info": {
      "codemirror_mode": "shell",
      "file_extension": ".sh",
      "mimetype": "text/x-sh",
      "name": "bash"
    }
  },
  "nbformat": 4,
  "nbformat_minor": 4
}
