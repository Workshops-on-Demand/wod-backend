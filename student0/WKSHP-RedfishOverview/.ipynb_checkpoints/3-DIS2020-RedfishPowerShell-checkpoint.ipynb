{
 "cells": [
  {
   "cell_type": "markdown",
   "metadata": {},
   "source": [
    "![HPE DEV Logo](Pictures/hpe-dev-logo.png \"HPE DEV Hack Shack\")\n",
    "\n",
    "# Hack Shack\n",
    "\n",
    "Powered by [HPE DEV Team](hpedev.io)\n",
    "\n",
    "### Speakers : Troy Heber, François Donzé\n",
    "\n",
    "### Redfish API Overview workshop\n",
    "\n",
    "**Abstract**: Redfish, a DMTF management standard is now recognized as the best solution to replace proprietary protocols. During this follow along Hack Shack workshop, you will interact with this HTTP/JSON based standard using your favorite language: PowerShell, Python or Bash/cURL. You will explore the Redfish tree of an OpenBMC and an HPE iLO 5 to understand its basic structure. In addition you will learn how to modify resources and perform simple actions. Beginners and experts are welcome.\n",
    "\n",
    "Version 0.4\n",
    "\n",
    "<img src=\"https://redfish.dmtf.org/sites/default/files/DMTF_Redfish_logo_R.jpg\" alt=\"Redfish Logo\" style=\"width: 125px;\"/> \n",
    "\n",
    "# Using unique code to retrieve properties from different Redfish implementations\n",
    "\n",
    "## Introduction\n",
    "\n",
    "This notebook contains a single PowerShell program, explained and executed step by step. Its goal is to retrieve the BMC MAC addresses from an OpenBMC and from an HPE iLO 5 using a single piece of code.\n",
    "\n",
    "The account on your dedicated OpenBMC simulator has Administrator privileges while you have Read-Only persmissions on the physical shared iLO 5.\n",
    "\n",
    "For simplicity and didactic reasons, the following code is not optimized and does not handle errors or test return codes. The simple syntax used should be easy to understand by non-python knowledgeable students.\n",
    "\n",
    "### Setting the scene\n",
    "\n",
    "The following cell imports the minimum required PowerShell Cmdlets and defines **global variables** (credentials and IP addresses). **TBD**The `redfish` module has been installed on the Jupyter server using the `pip3 install redfish` command as explained in the [DMTF's Python Redfish library](https://github.com/DMTF/python-redfish-library) GitHub site.**/TBD**"
   ]
  },
  {
   "cell_type": "code",
   "execution_count": null,
   "metadata": {},
   "outputs": [],
   "source": []
  },
  {
   "cell_type": "code",
   "execution_count": null,
   "metadata": {},
   "outputs": [],
   "source": []
  }
 ],
 "metadata": {
  "kernelspec": {
   "display_name": "PowerShell",
   "language": "powershell",
   "name": "powershell"
  },
  "language_info": {
   "codemirror_mode": "shell",
   "file_extension": ".ps1",
   "mimetype": "text/x-sh",
   "name": "powershell"
  }
 },
 "nbformat": 4,
 "nbformat_minor": 4
}
