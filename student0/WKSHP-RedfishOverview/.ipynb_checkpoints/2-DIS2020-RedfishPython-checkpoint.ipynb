{
 "cells": [
  {
   "cell_type": "markdown",
   "metadata": {},
   "source": [
    "![HPE DEV Logo](Pictures/hpe-dev-logo.png \"HPE DEV Hack Shack\")\n",
    "\n",
    "# Aspire 2020 Hack Shack\n",
    "\n",
    "Powered by [HPE DEV Team](hpedev.io)\n",
    "\n",
    "### Speaker : Troy Heber\n",
    "\n",
    "### Redfish API overview\n",
    "\n",
    "\n",
    "**Abstract**: Redfish, a DMTF management standard is now recognized as the best solution to replace proprietary protocols. During this follow along Hack Shack workshop, you will interact with this HTTP/JSON based standard using your favorite language: PowerShell, Python or Bash/cURL. You will explore the Redfish tree of an OpenBMC and an HPE iLO 5 to understand its basic structure. In addition you will learn how to modify resources and perform simple actions. Beginners and experts are welcome.\n",
    "\n",
    "Version 0.30\n",
    "\n",
    "<img src=\"https://redfish.dmtf.org/sites/default/files/DMTF_Redfish_logo_R.jpg\" alt=\"Redfish Logo\" style=\"width: 125px;\"/> \n",
    "\n",
    "# Using unique code to retrieve properties from different Redfish implementations\n",
    "\n",
    "## Introduction\n",
    "\n",
    "This notebook contains a single python program, explained and executed step by step. Its goal is to retrieve the BMC MAC addresses from an OpenBMC and from an HPE iLO 5 using a single piece of code.\n",
    "\n",
    "The account on your dedicated OpenBMC simulator has Administrator privileges while you have Read-Only persmissions on the physical shared iLO 5.\n",
    "\n",
    "For simplicity and didactic reasons, the following code is not optimized and does not handle errors or test return codes. The simple syntax used should be easy to understand by non-python knowledgeable students.\n",
    "\n",
    "### Setting the scene\n",
    "\n",
    "The following cell imports the minimum required Python modules and defines **global variables** (credentials and IP addresses). The `redfish` module has been installed on the Jupyter server using the `pip3 install redfish` command as explained in the [DMTF's Python Redfish library](https://github.com/DMTF/python-redfish-library) GitHub site."
   ]
  },
  {
   "cell_type": "code",
   "execution_count": 4,
   "metadata": {},
   "outputs": [
    {
     "name": "stdout",
     "output_type": "stream",
     "text": [
      "You are Student00\n",
      "\n",
      "\n"
     ]
    }
   ],
   "source": [
    "# -*- coding: utf-8 -*-\n",
    "\n",
    "import os\n",
    "import re\n",
    "import sys\n",
    "import json\n",
    "import redfish # Module sources at: https://github.com/DMTF/python-redfish-library/blob/master/src/redfish/rest/v1.py\n",
    "\n",
    "###########################################################################################################\n",
    "#\n",
    "# Variables\n",
    "#\n",
    "###########################################################################################################\n",
    "\n",
    "# Set Student ID number\n",
    "Stud=\"00\"\n",
    "print (\"You are Student\" + Stud + \"\\n\\n\")\n",
    "\n",
    "# OpenBMC and iLO common credentials\n",
    "user=\"student\"\n",
    "Password = \"P@ssw0rd!\"\n",
    "\n",
    "# OpenBMC and iLO IP addresses with port\n",
    "ObmcIP = \"openbmcs:443\" + Stud\n",
    "iLO5IP = \"16.31.87.207\""
   ]
  },
  {
   "cell_type": "markdown",
   "metadata": {},
   "source": [
    "## Redfish session creation and Root service content\n",
    "\n",
    "The following Python cell creates a Redfish session and saves the Root service content (`/redfish/v1`) in a variable called `service_root`. \n",
    "\n",
    "Session details (Session Key, Token, Location...) are stored in the  **`_redfishobj`** Python object. This `_redfishobj` object is automatically and silently removed at the end of the cell and the corresponding session is automatically deleted in the remote BMC.\n",
    "\n",
    "Hence, each Jupyter cell in this notebook starts with the creation of a new session object. This may not be optimal in real life, but allows an easy comparison of several Redfish implementations in a single notebook."
   ]
  },
  {
   "cell_type": "code",
   "execution_count": 5,
   "metadata": {},
   "outputs": [
    {
     "name": "stdout",
     "output_type": "stream",
     "text": [
      "Session Key (Token): hlNxSiOOfgtEQ1S3UuXr\n",
      "Session Location   : /redfish/v1/SessionService/Sessions/K3xsTl67om\n",
      "\n",
      "Root Services:\n",
      "{\n",
      "    \"@odata.id\": \"/redfish/v1\",\n",
      "    \"@odata.type\": \"#ServiceRoot.v1_5_0.ServiceRoot\",\n",
      "    \"AccountService\": {\n",
      "        \"@odata.id\": \"/redfish/v1/AccountService\"\n",
      "    },\n",
      "    \"CertificateService\": {\n",
      "        \"@odata.id\": \"/redfish/v1/CertificateService\"\n",
      "    },\n",
      "    \"Chassis\": {\n",
      "        \"@odata.id\": \"/redfish/v1/Chassis\"\n",
      "    },\n",
      "    \"Id\": \"RootService\",\n",
      "    \"JsonSchemas\": {\n",
      "        \"@odata.id\": \"/redfish/v1/JsonSchemas\"\n",
      "    },\n",
      "    \"Links\": {\n",
      "        \"Sessions\": {\n",
      "            \"@odata.id\": \"/redfish/v1/SessionService/Sessions\"\n",
      "        }\n",
      "    },\n",
      "    \"Managers\": {\n",
      "        \"@odata.id\": \"/redfish/v1/Managers\"\n",
      "    },\n",
      "    \"Name\": \"Root Service\",\n",
      "    \"RedfishVersion\": \"1.9.0\",\n",
      "    \"Registries\": {\n",
      "        \"@odata.id\": \"/redfish/v1/Registries\"\n",
      "    },\n",
      "    \"SessionService\": {\n",
      "        \"@odata.id\": \"/redfish/v1/SessionService\"\n",
      "    },\n",
      "    \"Systems\": {\n",
      "        \"@odata.id\": \"/redfish/v1/Systems\"\n",
      "    },\n",
      "    \"Tasks\": {\n",
      "        \"@odata.id\": \"/redfish/v1/TaskService\"\n",
      "    },\n",
      "    \"UUID\": \"8a557334-4a18-4b2a-9b80-da497882408c\",\n",
      "    \"UpdateService\": {\n",
      "        \"@odata.id\": \"/redfish/v1/UpdateService\"\n",
      "    }\n",
      "}\n",
      "\n"
     ]
    }
   ],
   "source": [
    "IP = ObmcIP\n",
    "base_url = \"https://\" + IP\n",
    "\n",
    "###########################################################################################################\n",
    "#\n",
    "# Redfish session creation and root services listing\n",
    "#\n",
    "###########################################################################################################\n",
    "if __name__ == \"__main__\":\n",
    "    # Set up the Redfish session object (_redfishobj)\n",
    "    with redfish.redfish_client( base_url = base_url, username = user, password = Password ) as _redfishobj:      \n",
    "        \n",
    "        SessionKey = _redfishobj.get_session_key()\n",
    "        SessionLocation = _redfishobj.get_session_location()\n",
    "        print (\"Session Key (Token): \" + SessionKey + \"\\n\" +\n",
    "            \"Session Location   : \" + SessionLocation + \"\\n\")\n",
    "        \n",
    "        # Retrieve and print the Redfish Root service content from the standard location /redfish/v1/\n",
    "        service_root = _redfishobj.get( \"/redfish/v1/\" )\n",
    "        print (\"Root Services:\" + \"\\n\" + json.dumps( service_root.dict, indent=4 ) + \"\\n\")"
   ]
  },
  {
   "cell_type": "markdown",
   "metadata": {},
   "source": [
    "## Managers collection listing\n",
    "\n",
    "### OpenBMC\n",
    "\n",
    "As explained in the previous notebook, the standard Redfish location of a server BMC(s) is at `/redfish/v1/Managers/{item}` where `{item}` varies from one Redfish implementation to another. \n",
    "\n",
    "The next cell retrieves and prints the `Managers` collection from an OpenBMC simulator. This collection has only one item named `bmc`. Run it."
   ]
  },
  {
   "cell_type": "code",
   "execution_count": 6,
   "metadata": {},
   "outputs": [
    {
     "ename": "AttributeError",
     "evalue": "'dict' object has no attribute 'replace'",
     "output_type": "error",
     "traceback": [
      "\u001b[0;31m---------------------------------------------------------------------------\u001b[0m",
      "\u001b[0;31mAttributeError\u001b[0m                            Traceback (most recent call last)",
      "\u001b[0;32m<ipython-input-6-4a0ecc16686c>\u001b[0m in \u001b[0;36m<module>\u001b[0;34m\u001b[0m\n\u001b[1;32m     12\u001b[0m         \u001b[0;31m# Retrieve the location of the \"Managers\" service and its content.\u001b[0m\u001b[0;34m\u001b[0m\u001b[0;34m\u001b[0m\u001b[0;34m\u001b[0m\u001b[0m\n\u001b[1;32m     13\u001b[0m         \u001b[0;31m# To be perfect, we should verify that the `Managers` resource is present in the ServiceRoot schema\u001b[0m\u001b[0;34m\u001b[0m\u001b[0;34m\u001b[0m\u001b[0;34m\u001b[0m\u001b[0m\n\u001b[0;32m---> 14\u001b[0;31m         \u001b[0mmanager_collection\u001b[0m \u001b[0;34m=\u001b[0m \u001b[0m_redfishobj\u001b[0m\u001b[0;34m.\u001b[0m\u001b[0mget\u001b[0m\u001b[0;34m(\u001b[0m \u001b[0mservice_root\u001b[0m\u001b[0;34m.\u001b[0m\u001b[0mdict\u001b[0m\u001b[0;34m[\u001b[0m\u001b[0;34m\"Managers\"\u001b[0m\u001b[0;34m]\u001b[0m \u001b[0;34m)\u001b[0m\u001b[0;34m\u001b[0m\u001b[0;34m\u001b[0m\u001b[0m\n\u001b[0m\u001b[1;32m     15\u001b[0m         \u001b[0mprint\u001b[0m \u001b[0;34m(\u001b[0m \u001b[0;34m\"Managers collection: \"\u001b[0m \u001b[0;34m+\u001b[0m \u001b[0;34m\"\\n\"\u001b[0m \u001b[0;34m+\u001b[0m \u001b[0mjson\u001b[0m\u001b[0;34m.\u001b[0m\u001b[0mdumps\u001b[0m\u001b[0;34m(\u001b[0m \u001b[0mmanager_collection\u001b[0m\u001b[0;34m.\u001b[0m\u001b[0mdict\u001b[0m\u001b[0;34m,\u001b[0m \u001b[0mindent\u001b[0m\u001b[0;34m=\u001b[0m\u001b[0;36m4\u001b[0m \u001b[0;34m)\u001b[0m \u001b[0;34m+\u001b[0m \u001b[0;34m\"\\n\"\u001b[0m \u001b[0;34m)\u001b[0m\u001b[0;34m\u001b[0m\u001b[0;34m\u001b[0m\u001b[0m\n",
      "\u001b[0;32m/opt/jupyterhub/lib/python3.6/site-packages/redfish/rest/v1.py\u001b[0m in \u001b[0;36mget\u001b[0;34m(self, path, args, headers)\u001b[0m\n\u001b[1;32m    616\u001b[0m         \u001b[0;32mtry\u001b[0m\u001b[0;34m:\u001b[0m\u001b[0;34m\u001b[0m\u001b[0;34m\u001b[0m\u001b[0m\n\u001b[1;32m    617\u001b[0m             return self._rest_request(path, method='GET', args=args, \\\n\u001b[0;32m--> 618\u001b[0;31m                                                                 headers=headers)\n\u001b[0m\u001b[1;32m    619\u001b[0m         \u001b[0;32mexcept\u001b[0m \u001b[0mValueError\u001b[0m\u001b[0;34m:\u001b[0m\u001b[0;34m\u001b[0m\u001b[0;34m\u001b[0m\u001b[0m\n\u001b[1;32m    620\u001b[0m             \u001b[0mLOGGER\u001b[0m\u001b[0;34m.\u001b[0m\u001b[0mdebug\u001b[0m\u001b[0;34m(\u001b[0m\u001b[0;34m\"Error in json object getting path: %s\"\u001b[0m \u001b[0;34m%\u001b[0m \u001b[0mpath\u001b[0m\u001b[0;34m)\u001b[0m\u001b[0;34m\u001b[0m\u001b[0;34m\u001b[0m\u001b[0m\n",
      "\u001b[0;32m/opt/jupyterhub/lib/python3.6/site-packages/redfish/rest/v1.py\u001b[0m in \u001b[0;36m_rest_request\u001b[0;34m(self, path, method, args, body, headers)\u001b[0m\n\u001b[1;32m   1024\u001b[0m \u001b[0;34m\u001b[0m\u001b[0m\n\u001b[1;32m   1025\u001b[0m         return super(HttpClient, self)._rest_request(path=path, method=method, \\\n\u001b[0;32m-> 1026\u001b[0;31m                                          args=args, body=body, headers=headers)\n\u001b[0m\u001b[1;32m   1027\u001b[0m \u001b[0;34m\u001b[0m\u001b[0m\n\u001b[1;32m   1028\u001b[0m     \u001b[0;32mdef\u001b[0m \u001b[0m_get_req_headers\u001b[0m\u001b[0;34m(\u001b[0m\u001b[0mself\u001b[0m\u001b[0;34m,\u001b[0m \u001b[0mheaders\u001b[0m\u001b[0;34m=\u001b[0m\u001b[0;32mNone\u001b[0m\u001b[0;34m,\u001b[0m \u001b[0mproviderheader\u001b[0m\u001b[0;34m=\u001b[0m\u001b[0;32mNone\u001b[0m\u001b[0;34m)\u001b[0m\u001b[0;34m:\u001b[0m\u001b[0;34m\u001b[0m\u001b[0;34m\u001b[0m\u001b[0m\n",
      "\u001b[0;32m/opt/jupyterhub/lib/python3.6/site-packages/redfish/rest/v1.py\u001b[0m in \u001b[0;36m_rest_request\u001b[0;34m(self, path, method, args, body, headers)\u001b[0m\n\u001b[1;32m    738\u001b[0m         \"\"\"\n\u001b[1;32m    739\u001b[0m         \u001b[0mheaders\u001b[0m \u001b[0;34m=\u001b[0m \u001b[0mself\u001b[0m\u001b[0;34m.\u001b[0m\u001b[0m_get_req_headers\u001b[0m\u001b[0;34m(\u001b[0m\u001b[0mheaders\u001b[0m\u001b[0;34m)\u001b[0m\u001b[0;34m\u001b[0m\u001b[0;34m\u001b[0m\u001b[0m\n\u001b[0;32m--> 740\u001b[0;31m         \u001b[0mreqpath\u001b[0m \u001b[0;34m=\u001b[0m \u001b[0mpath\u001b[0m\u001b[0;34m.\u001b[0m\u001b[0mreplace\u001b[0m\u001b[0;34m(\u001b[0m\u001b[0;34m'//'\u001b[0m\u001b[0;34m,\u001b[0m \u001b[0;34m'/'\u001b[0m\u001b[0;34m)\u001b[0m\u001b[0;34m\u001b[0m\u001b[0;34m\u001b[0m\u001b[0m\n\u001b[0m\u001b[1;32m    741\u001b[0m \u001b[0;34m\u001b[0m\u001b[0m\n\u001b[1;32m    742\u001b[0m         \u001b[0;32mif\u001b[0m \u001b[0mbody\u001b[0m \u001b[0;32mis\u001b[0m \u001b[0;32mnot\u001b[0m \u001b[0;32mNone\u001b[0m\u001b[0;34m:\u001b[0m\u001b[0;34m\u001b[0m\u001b[0;34m\u001b[0m\u001b[0m\n",
      "\u001b[0;31mAttributeError\u001b[0m: 'dict' object has no attribute 'replace'"
     ]
    }
   ],
   "source": [
    "IP = ObmcIP\n",
    "base_url = \"https://\" + IP\n",
    "###########################################################################################################\n",
    "#\n",
    "# Managers service listing\n",
    "#\n",
    "###########################################################################################################\n",
    "if __name__ == \"__main__\":\n",
    "    with redfish.redfish_client( base_url = base_url, username = user, password = Password ) as _redfishobj:\n",
    "        service_root = _redfishobj.get( \"/redfish/v1/\" )\n",
    "        \n",
    "        # Retrieve the location of the \"Managers\" service and its content.\n",
    "        # To be perfect, we should verify that the `Managers` resource is present in the ServiceRoot schema\n",
    "        manager_collection = _redfishobj.get( service_root.dict[\"Managers\"] )\n",
    "        print ( \"Managers collection: \" + \"\\n\" + json.dumps( manager_collection.dict, indent=4 ) + \"\\n\" )"
   ]
  },
  {
   "cell_type": "markdown",
   "metadata": {},
   "source": [
    "### HPE iLO 5\n",
    "\n",
    "The following program retrieves the `Managers` collection of an **HPE ProLiant iLO 5**.\n",
    "\n",
    "In this example, this HPE server has only one item called `1`. Other HPE servers may have several BMCs called differently.\n",
    "\n",
    "**CONCLUSION**: If you want to your Redfish programs to work against different Redfish implementation, it is mandatory to avoid assumptions on the URIs of services. You must crawl the Redfish tree and discover mechanically the desired URIs."
   ]
  },
  {
   "cell_type": "code",
   "execution_count": null,
   "metadata": {},
   "outputs": [],
   "source": [
    "IP = iLO5IP\n",
    "base_url = \"https://\" + IP\n",
    "###########################################################################################################\n",
    "#\n",
    "# Managers service listing\n",
    "#\n",
    "###########################################################################################################\n",
    "if __name__ == \"__main__\":\n",
    "    with redfish.redfish_client( base_url = base_url, username = user, password = Password ) as _redfishobj:\n",
    "        service_root = _redfishobj.get( \"/redfish/v1/\" )\n",
    "        # Retrieve the location of the \"Managers\" service and its content.\n",
    "        # To be perfect, we should verify that the `Managers` resource is present in the ServiceRoot schema\n",
    "        manager_collection = _redfishobj.get( service_root.dict[\"Managers\"][\"@odata.id\"] )\n",
    "        print ( \"Managers location: \" + \"\\n\" + json.dumps( manager_collection.dict, indent=4 ) + \"\\n\" )"
   ]
  },
  {
   "cell_type": "markdown",
   "metadata": {},
   "source": [
    "## BMC properties and `EthernetInterfaces` collection\n",
    "\n",
    "The next two Python cells use the exact same code to locate the BMC properties of an HPE iLO 5 first and then an OpenBMC simulator. Then, they locate and print the collection of `EthernetInterfaces` found in each BMC.\n",
    "\n",
    "The logic of this code starts at the Root Redfish tree and then follows the desired links. The main steps are:\n",
    "  * Create a Redfish session object `_redfishobj`\n",
    "  * Retrieve and save the Root service content in variable `service_root`\n",
    "  * Retrieve and save the URI of the `Managers` collection in variable `manager_collection`\n",
    "  * For each BMC URI, save its properties in variable `manager_resources`. Then, print  those properties as well as the collection of `EthernetInterfaces`\n"
   ]
  },
  {
   "cell_type": "markdown",
   "metadata": {},
   "source": [
    "### OpenBMC \n",
    "\n",
    "The OpenBMC simulator returns **two** BMC NICs under `/redfish/v1/Managers/bmc/EthernetInterfaces`. "
   ]
  },
  {
   "cell_type": "code",
   "execution_count": null,
   "metadata": {},
   "outputs": [],
   "source": [
    "IP = ObmcIP\n",
    "base_url = \"https://\" + IP\n",
    "###########################################################################################################\n",
    "#\n",
    "# BMC properties and Ethernet Network Interfaces listing\n",
    "#\n",
    "###########################################################################################################\n",
    "if __name__ == \"__main__\":\n",
    "    with redfish.redfish_client( base_url = base_url, username = user, password = Password ) as _redfishobj:  \n",
    "        service_root = _redfishobj.get( \"/redfish/v1/\" )\n",
    "        manager_collection = _redfishobj.get( service_root.dict[\"Managers\"][\"@odata.id\"] )\n",
    "    \n",
    "        for manager_member in manager_collection.dict[\"Members\"]:\n",
    "            manager_resources = _redfishobj.get( manager_member[\"@odata.id\"] )\n",
    "            print ( \"Manager Resources\" + \"\\n\" + json.dumps(manager_resources.dict, indent=4) + \"\\n\" )  \n",
    "            print (\"##############################################################################\" + \"\\n\")\n",
    "            ethernet_network_interface_collection = _redfishobj.get(manager_resources.dict[\"EthernetInterfaces\"][\"@odata.id\"])\n",
    "            print ( \"Ethernet Network Interface Collection\" + \"\\n\" + \n",
    "                   json.dumps(ethernet_network_interface_collection.dict, indent=4) + \"\\n\")   "
   ]
  },
  {
   "cell_type": "markdown",
   "metadata": {},
   "source": [
    "### HPE iLO 5\n",
    "\n",
    "The HPE iLO 5 returns **three** BMC NICs under `/redifsh/v1/Managers/1/EthernetInterfaces`. "
   ]
  },
  {
   "cell_type": "code",
   "execution_count": null,
   "metadata": {},
   "outputs": [],
   "source": [
    "IP = iLO5IP\n",
    "base_url = \"https://\" + IP\n",
    "###########################################################################################################\n",
    "#\n",
    "# BMC properties and Ethernet Network Interfaces listing\n",
    "#\n",
    "###########################################################################################################\n",
    "if __name__ == \"__main__\":\n",
    "    with redfish.redfish_client( base_url = base_url, username = user, password = Password ) as _redfishobj:  \n",
    "        service_root = _redfishobj.get( \"/redfish/v1/\" )\n",
    "        manager_collection = _redfishobj.get( service_root.dict[\"Managers\"][\"@odata.id\"] )\n",
    "    \n",
    "        for manager_member in manager_collection.dict[\"Members\"]:\n",
    "            manager_resources = _redfishobj.get( manager_member[\"@odata.id\"] )\n",
    "            print ( \"Manager Resources\" + \"\\n\" + json.dumps(manager_resources.dict, indent=4) + \"\\n\" )  \n",
    "            print (\"##############################################################################\" + \"\\n\")\n",
    "            ethernet_network_interface_collection = _redfishobj.get(manager_resources.dict[\"EthernetInterfaces\"][\"@odata.id\"])\n",
    "            print ( \"Ethernet Network Interface Collection\" + \"\\n\" + \n",
    "                   json.dumps(ethernet_network_interface_collection.dict, indent=4) + \"\\n\")   "
   ]
  },
  {
   "cell_type": "markdown",
   "metadata": {},
   "source": [
    "## BMC NICs MAC addresses\n",
    "\n",
    "Using the exact same code again, we extract the MAC addresses of the two OpenBMC NICs and then the three iLO 5 NICs regardless their different names and locations.\n",
    "\n",
    "### OpenBMC"
   ]
  },
  {
   "cell_type": "code",
   "execution_count": null,
   "metadata": {},
   "outputs": [],
   "source": [
    "IP = ObmcIP\n",
    "base_url = \"https://\" + IP\n",
    "###########################################################################################################\n",
    "#\n",
    "# BMC NICs MAC addresses extraction\n",
    "#\n",
    "###########################################################################################################\n",
    "if __name__ == \"__main__\":\n",
    "    with redfish.redfish_client( base_url = base_url, username = user, password = Password ) as _redfishobj:  \n",
    "        # Retrieve the Redfish root services from the standard location /redfish/v1/\n",
    "        service_root = _redfishobj.get( \"/redfish/v1/\" )\n",
    "        manager_collection = _redfishobj.get( service_root.dict[\"Managers\"][\"@odata.id\"] )\n",
    "\n",
    "        for manager_member in manager_collection.dict[\"Members\"]:\n",
    "            manager_resources = _redfishobj.get( manager_member[\"@odata.id\"] )\n",
    "            ethernet_network_interface_collection = _redfishobj.get(manager_resources.dict[\"EthernetInterfaces\"][\"@odata.id\"])\n",
    "            \n",
    "            # For each ethernet network interface, get its properties and print the location, Id and MAC Address\n",
    "            for ethernet_network_interface in ethernet_network_interface_collection.dict[\"Members\"]:\n",
    "                print (json.dumps(ethernet_network_interface))\n",
    "                ethernet_network_interface_resources = _redfishobj.get(ethernet_network_interface[\"@odata.id\"])\n",
    "                \n",
    "                print (json.dumps(ethernet_network_interface_resources.dict[\"Id\"], indent=4) + \":\\t\" +\n",
    "                       json.dumps(ethernet_network_interface_resources.dict[\"MACAddress\"], indent=4) + \"\\n\")   "
   ]
  },
  {
   "cell_type": "markdown",
   "metadata": {},
   "source": [
    "### HPE iLO 5\n"
   ]
  },
  {
   "cell_type": "code",
   "execution_count": null,
   "metadata": {},
   "outputs": [],
   "source": [
    "IP = iLO5IP\n",
    "base_url = \"https://\" + IP\n",
    "\n",
    "###########################################################################################################\n",
    "#\n",
    "# BMC NICs MAC addresses extraction\n",
    "#\n",
    "###########################################################################################################\n",
    "if __name__ == \"__main__\":\n",
    "    with redfish.redfish_client( base_url = base_url, username = user, password = Password ) as _redfishobj:  \n",
    "        # Retrieve the Redfish root services from the standard location /redfish/v1/\n",
    "        service_root = _redfishobj.get( \"/redfish/v1/\" )\n",
    "        manager_collection = _redfishobj.get( service_root.dict[\"Managers\"][\"@odata.id\"] )\n",
    "\n",
    "        for manager_member in manager_collection.dict[\"Members\"]:\n",
    "            manager_resources = _redfishobj.get( manager_member[\"@odata.id\"] )\n",
    "            ethernet_network_interface_collection = _redfishobj.get(manager_resources.dict[\"EthernetInterfaces\"][\"@odata.id\"])\n",
    "            \n",
    "            # For each ethernet network interface, get its properties and print the location, Id and MAC Address\n",
    "            for ethernet_network_interface in ethernet_network_interface_collection.dict[\"Members\"]:\n",
    "                print (json.dumps(ethernet_network_interface))\n",
    "                ethernet_network_interface_resources = _redfishobj.get(ethernet_network_interface[\"@odata.id\"])\n",
    "                \n",
    "                print (json.dumps(ethernet_network_interface_resources.dict[\"Id\"], indent=4) + \":\\t\" +\n",
    "                       json.dumps(ethernet_network_interface_resources.dict[\"MACAddress\"], indent=4) + \"\\n\")  "
   ]
  },
  {
   "cell_type": "markdown",
   "metadata": {},
   "source": [
    "<img src=\"https://redfish.dmtf.org/sites/default/files/DMTF_Redfish_logo_R.jpg\" alt=\"Redfish Logo\" style=\"width: 50px;\"/><img src=\"https://redfish.dmtf.org/sites/default/files/DMTF_Redfish_logo_R.jpg\" alt=\"Redfish Logo\" style=\"width: 50px;\"/><img src=\"https://redfish.dmtf.org/sites/default/files/DMTF_Redfish_logo_R.jpg\" alt=\"Redfish Logo\" style=\"width: 50px;\"/><img src=\"https://redfish.dmtf.org/sites/default/files/DMTF_Redfish_logo_R.jpg\" alt=\"Redfish Logo\" style=\"width: 50px;\"/><img src=\"https://redfish.dmtf.org/sites/default/files/DMTF_Redfish_logo_R.jpg\" alt=\"Redfish Logo\" style=\"width: 50px;\"/><img src=\"https://redfish.dmtf.org/sites/default/files/DMTF_Redfish_logo_R.jpg\" alt=\"Redfish Logo\" style=\"width: 50px;\"/><img src=\"https://redfish.dmtf.org/sites/default/files/DMTF_Redfish_logo_R.jpg\" alt=\"Redfish Logo\" style=\"width: 50px;\"/><img src=\"https://redfish.dmtf.org/sites/default/files/DMTF_Redfish_logo_R.jpg\" alt=\"Redfish Logo\" style=\"width: 50px;\"/><img src=\"https://redfish.dmtf.org/sites/default/files/DMTF_Redfish_logo_R.jpg\" alt=\"Redfish Logo\" style=\"width: 50px;\"/><img src=\"https://redfish.dmtf.org/sites/default/files/DMTF_Redfish_logo_R.jpg\" alt=\"Redfish Logo\" style=\"width: 50px;\"/><img src=\"https://redfish.dmtf.org/sites/default/files/DMTF_Redfish_logo_R.jpg\" alt=\"Redfish Logo\" style=\"width: 50px;\"/><img src=\"https://redfish.dmtf.org/sites/default/files/DMTF_Redfish_logo_R.jpg\" alt=\"Redfish Logo\" style=\"width: 50px;\"/><img src=\"https://redfish.dmtf.org/sites/default/files/DMTF_Redfish_logo_R.jpg\" alt=\"Redfish Logo\" style=\"width: 50px;\"/><img src=\"https://redfish.dmtf.org/sites/default/files/DMTF_Redfish_logo_R.jpg\" alt=\"Redfish Logo\" style=\"width: 50px;\"/><img src=\"https://redfish.dmtf.org/sites/default/files/DMTF_Redfish_logo_R.jpg\" alt=\"Redfish Logo\" style=\"width: 50px;\"/><img src=\"https://redfish.dmtf.org/sites/default/files/DMTF_Redfish_logo_R.jpg\" alt=\"Redfish Logo\" style=\"width: 50px;\"/><img src=\"https://redfish.dmtf.org/sites/default/files/DMTF_Redfish_logo_R.jpg\" alt=\"Redfish Logo\" style=\"width: 50px;\"/><img src=\"https://redfish.dmtf.org/sites/default/files/DMTF_Redfish_logo_R.jpg\" alt=\"Redfish Logo\" style=\"width: 50px;\"/><img src=\"https://redfish.dmtf.org/sites/default/files/DMTF_Redfish_logo_R.jpg\" alt=\"Redfish Logo\" style=\"width: 50px;\"/>"
   ]
  }
 ],
 "metadata": {
  "kernelspec": {
   "display_name": "Python 3",
   "language": "python",
   "name": "python3"
  },
  "language_info": {
   "codemirror_mode": {
    "name": "ipython",
    "version": 3
   },
   "file_extension": ".py",
   "mimetype": "text/x-python",
   "name": "python",
   "nbconvert_exporter": "python",
   "pygments_lexer": "ipython3",
   "version": "3.6.9"
  }
 },
 "nbformat": 4,
 "nbformat_minor": 4
}
