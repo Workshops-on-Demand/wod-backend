{
 "cells": [
  {
   "cell_type": "markdown",
   "metadata": {},
   "source": [
    "![HPEDEVlogo](Pictures/hpedevlogo-NB.JPG)\n",
    "\n",
    "# Welcome to the Hack Shack\n",
    "Powered by [HPE DEV Team](https://hpedev.io)\n",
    "\n",
    "# Speaker: [Speaker's name](mailto:speaker.name@hpe.com)\n",
    "\n",
    "Find me on [Twitter](https://twitter.com/???), [LinkedIn](https://www.linkedin.com/in/???), [Blog](https://???.io) \n",
    "\n",
    "<p align=\"center\">\n",
    "  <img src=\"Pictures/hackshackdisco.png\">\n",
    "  \n",
    "</p>\n",
    "\n",
    "\n",
    "\n",
    "# Introduction to [ insert Workshop Subject name] \n",
    "In this workshop we’ll go through some of the basics of the...............\n",
    "\n",
    "## Lab flow\n",
    "HackShack Workshops are delivered through a central point that allows a portable, dynamic version of the lab guides. Rather than using standard PDF files which always end in copy / paste errors from the lab guide into the TS sessions, this year we decided to innovate and introduce a brand-new infrastructure. We will leverage a JupyterHub server on which all the different lab guides will be stored in a notebook format (*.ipynb). These Jupyter Notebooks are accessible from the internet for the event.\n",
    "\n",
    "## Handouts\n",
    "You can freely copy the Jupyter Notebooks, including their output, in order to practice back at your office at your own pace, leveraging a local installation of Jupyter Notebook on your laptop.\n",
    "- You install the Jupyter Notebook application from [here](https://jupyter.org/install). \n",
    "- A Beginners Guide is also available [here](https://jupyter-notebook-beginner-guide.readthedocs.io/en/latest/what_is_jupyter.html)\n",
    "\n",
    "Please listen now to the instructor guidelines on how to use Jupyter and follow along as the different steps are covered.\n",
    "\n",
    "\n",
    "Enjoy the labs ! :-)\n",
    "\n",
    "\n",
    "## Workflow\n",
    "\n",
    "### Lab 1: [Place Title here]\n",
    "Description /summary here: In this intro we'll connect to the REST API endpoint and retrieve an authentication token to use for subsequent requests.\n",
    "\n",
    "* [Lab 1](1-WKSHP-Nimble-IntroAndAuth.ipynb)\n",
    "\n",
    "### Lab 2: [Place Title here]\n",
    "Description /summary here: Let's create volumes, snapshots and clones.\n",
    "\n",
    "* [Lab 2](2-WKSHP-Nimble-CreateRes.ipynb)\n",
    "\n",
    "### Lab 3: [Place Title here]\n",
    "Description /summary here:Expanding and updating volumes.\n",
    "\n",
    "* [Lab 3](3-WKSHP-Nimble-UpdateRes.ipynb)\n",
    "\n",
    "# Earn a chance to win a Canakit Raspberry Pi\n",
    "[Join the HPE DEV Community by signing up to the HPE DEV Newsletter and Participate to our raffle to win !!](https://developer.hpe.com/event/discover-us-2020?listid=11646955)\n",
    "\n",
    "# Join the HPE DEV Monthly - Scan the QRcode below\n",
    "![QRCode](Pictures/QRCode-HPEDEV.png)\n",
    "\n",
    "# Thank you!\n",
    "![grommet.JPG](Pictures/grommet.JPG)"
   ]
  },
  {
   "cell_type": "code",
   "execution_count": null,
   "metadata": {},
   "outputs": [],
   "source": []
  },
  {
   "cell_type": "code",
   "execution_count": null,
   "metadata": {},
   "outputs": [],
   "source": []
  }
 ],
 "metadata": {
  "kernelspec": {
   "display_name": "Python 3",
   "language": "python",
   "name": "python3"
  },
  "language_info": {
   "codemirror_mode": {
    "name": "ipython",
    "version": 3
   },
   "file_extension": ".py",
   "mimetype": "text/x-python",
   "name": "python",
   "nbconvert_exporter": "python",
   "pygments_lexer": "ipython3",
   "version": "3.6.9"
  }
 },
 "nbformat": 4,
 "nbformat_minor": 4
}
