{
  "cells": [
    {
      "cell_type": "markdown",
      "metadata": {},
      "source": [
        "![HPEDEVLogo](Pictures/hpe-dev-logo.png)\n",
        "\n",
        "# Welcome to Hack Shack\n",
        "Powered by [HPE DEV Team](https://hpedev.io)\n",
        "\n",
        "# Workshops-on-Demand\n",
        "\n",
        "# Introduction to the HPE Ezmeral Container Platform REST API \n",
        "\n",
        "*Version: HPE Ezmeral Container Platform 5.1*\n",
        "\n",
        "In this workshop, you will learn how developers can interact with HPE Ezmeral Container Platform (HPE ECP) programmatically through its REST API to accelerate their application development and deployment on containers. The workshops does not cover how to perform IT administrative tasks through the REST API.\n",
        "\n",
        "# Author: [Denis Choukroun](mailto:denis.choukroun@hpe.com)\n",
        "\n",
        "<p align=\"center\">\n",
        "  <img src=\"Pictures/hackshackdisco.png\">\n",
        "  \n",
        "</p>\n",
        "\n",
        "## Handouts\n",
        "HackShack Workshops are delivered through a central point that allows a portable, dynamic version of the lab guides. Rather than using standard PDF files which always end in copy / paste errors from the lab guide into the TS sessions, this year we decided to innovate and introduce a brand-new infrastructure. We will leverage a JupyterHub server on which all the different lab guides will be stored in a notebook format (*.ipynb).\n",
        "\n",
        "You can freely copy the Jupyter Notebooks, including their output, in order to practice back at your office at your own pace, leveraging a local installation of Jupyter Notebook on your laptop.\n",
        "- You install the Jupyter Notebook application from [here](https://jupyter.org/install). \n",
        "- A Beginners Guide is also available [here](https://jupyter-notebook-beginner-guide.readthedocs.io/en/latest/what_is_jupyter.html)\n",
        "\n",
        "\n",
        "Enjoy the labs ! :-)"
      ]
    },
    {
      "cell_type": "markdown",
      "metadata": {},
      "source": [
        "## Lab flow\n",
        "HPE Ezmeral Container Platform (HPE ECP) uses **container technology** to make it simpler and more cost-effective to deploy, run and manage both cloud native microservices enterprise workloads and non-cloud native monolithic stateful applications for machine learning, deep learning, and big data analytics use cases.\n",
        "\n",
        "You will start you off with some fundamental knowledge about how to interact with the HPE Ezmeral Container Platform programmatically through its REST API. As a tenant user, you will learn how to perform authentication, deploy cloud native stateless applications and non-cloud native distributed multi-node applications for AI/ML and data analytics, and interpret/respond to the status of your REST API calls. We will walk you through the process, step by step. By the end of the session, you'll be deploying a TensorFlow application framework and other simple applications.\n",
        "\n",
        "## Documentation\n",
        "The REST API documentation for HPE Ezmeral Container Platform is accessible from an HPE Ezmeral Container Platform deployment.\n",
        "\n",
        "The documentation for HPE Ezmeral Container Platform is accessible on-line [here](http://docs.bluedata.com/home).  \n",
        "\n",
        "Find out more about the open source KubeDirector project at the GitHub site [here](https://github.com/bluek8s/kubedirector) and on the wiki [here](https://github.com/bluek8s/kubedirector/wiki)  "
      ]
    },
    {
      "cell_type": "markdown",
      "metadata": {},
      "source": [
        "# Lab environment - A high level overview of the physical architecture of the HPE Ezmeral Container Platform deployment\n",
        "This high-level architecture diagram depicts how you can interact programmatically with the HPE Ezmeral Container Platform. \n",
        "    \n",
        "\n",
        "![HPECP-Architecture](Pictures/HPECP-Logical-diagram.jpg)\n",
        "      \n",
        "\n",
        "Our HPE Controller Platform deployment is comprised of a number of components:\n",
        "1. The `Controller host` manages all the hosts that comprise the HPE Ezmeral Container Platform deployment.\n",
        "2. The `Kubernetes (K8s) hosts` are under the direct control of the Controller host. These hosts can be grouped into one or more distinct Kubernetes clusters that run containerized applications.\n",
        "3. The `Gateway host` acts as a proxy server that carries client requests like HPE ECP UI, REST API, K8s API (kubectl commands), to the HPE Ezmeral Container Platform controller, to one of the K8s clusters, or to the containerized application services running in one of the K8s clusters. Containerized application service endpoints are exposed outside the Kubernetes cluster to users via the gateway re-mapped ports. \n",
        "4. The `Authentication Proxy` handles user authentication and forwards authenticated K8s API traffic (kubectl commands) to the Kubernetes cluster master and returns any responses to the request back to the user.\n",
        "5. The pre-integrated `HPE Ezmeral Data Fabric` (a MapR File System) is a storage provider for persistent volumes for the applications that require persistence of data. The default StorageClass is available out of the box from the HPE Ezmeral Data Fabric (formerly MapR Data Platform) using the HPE Container Storage Interface (CSI) driver for MapR. HPE Ezmeral Data Fabric also provides shared persistent container storage."
      ]
    },
    {
      "cell_type": "markdown",
      "metadata": {},
      "source": [
        "# Workflow\n",
        "\n",
        "## Lab 1: Intro and authentication to the REST API\n",
        "In this intro, you will connect to the HPE ECP REST API endpoint and retrieve an authentication session token to be used for subsequent REST API requests.\n",
        "\n",
        "* [Lab 1](1-WKSHP-HPECP-IntroAndAuth.ipynb)\n",
        "\n",
        "\n",
        "## Lab 2: Deploying cloud native and non-cloud native applications programmatically as tenant users\n",
        "Continuing with our lab series, this lab will walk you through how you, as a tenant user, can use the REST API and K8s API to deploy containerized stateless and stateful applications on a Kubernetes cluster managed by the HPE Ezmeral Container Platform. You will use kubectl (K8s API client) to interact directly with the Kubernetes cluster in the context of your tenant user.\n",
        "\n",
        "* [Lab 2](2-WKSHP-HPECP-DeployApp-K8S-Tenant-tf.ipynb)\n",
        "\n",
        "\n",
        "# Thank you!\n",
        "![grommet.JPG](Pictures/grommet.jpg)"
      ]
    },
    {
      "cell_type": "code",
      "execution_count": null,
      "metadata": {},
      "outputs": [],
      "source": []
    }
  ],
  "metadata": {
    "kernelspec": {
      "display_name": "Python 3",
      "language": "python",
      "name": "python3"
    },
    "language_info": {
      "codemirror_mode": {
        "name": "ipython",
        "version": 3
      },
      "file_extension": ".py",
      "mimetype": "text/x-python",
      "name": "python",
      "nbconvert_exporter": "python",
      "pygments_lexer": "ipython3",
      "version": "3.6.9"
    }
  },
  "nbformat": 4,
  "nbformat_minor": 4
}
