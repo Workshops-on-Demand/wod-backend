{
  "cells": [
    {
      "cell_type": "markdown",
      "metadata": {},
      "source": [
        "![HPEDEVLogo](Pictures/hpe-dev-logo.png)\n",
        "\n",
        "# Thank you for visiting the Hack Shack\n",
        "\n",
        "Powered by [HPE DEV Team](hpedev.io)\n",
        "\n",
        "# Conclusion\n",
        "\n",
        "**Congratulations!**\n",
        "\n",
        "You have completed the deployment of both cloud native and non-cloud native applications programmatically. In this workshop, we introduced you to the HPE Ezmeral Container Platform (HPE ECP) REST API basics and showed you how to interact with HPE ECP programmatically through REST API and K8s API clients, to accelerate your application development and deployment on containers. \n"
      ]
    },
    {
      "cell_type": "markdown",
      "metadata": {},
      "source": [
        "# Learn More\n",
        "\n",
        "Check out these community blogs\n",
        "\n",
        "* [HPE Ezmeral Container Platform REST API Part 1 - Authenticating](https://developer.hpe.com/blog/hpe-container-platform-rest-api-part-1-authenticating)\n",
        "* [HPE Ezmeral Container Platform REST API Part 2 - Deploying containerized applications](https://developer.hpe.com/blog/hpe-container-platform-rest-api-part-2-deploying-containerized-applicati)\n"
      ]
    },
    {
      "cell_type": "markdown",
      "metadata": {},
      "source": [
        "# Final step\n",
        "\n",
        "### Please take a moment to fill out our [survey](https://forms.office.com/Pages/ResponsePage.aspx?id=YSBbEGm2MUuSrCTTBNGV3KHzFdd987lBoQATWJq45DdUMlZMVkZPRlIwSjFMRlBVNEhTQUhVRVRZOS4u) so we can ensure future workshops meet your needs.\n",
        "\n",
        "### And make sure you use `File->Log Out` to terminate your workshop session."
      ]
    },
    {
      "cell_type": "markdown",
      "metadata": {},
      "source": [
        "# Thank you\n",
        "![ThankYou](Pictures/grommet.jpg)"
      ]
    }
  ],
  "metadata": {
    "kernelspec": {
      "display_name": "Bash",
      "language": "bash",
      "name": "bash"
    },
    "language_info": {
      "codemirror_mode": "shell",
      "file_extension": ".sh",
      "mimetype": "text/x-sh",
      "name": "bash"
    }
  },
  "nbformat": 4,
  "nbformat_minor": 4
}
