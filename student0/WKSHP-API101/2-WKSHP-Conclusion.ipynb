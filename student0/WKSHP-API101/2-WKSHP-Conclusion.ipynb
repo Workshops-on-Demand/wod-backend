{
  "cells": [
    {
      "cell_type": "markdown",
      "metadata": {},
      "source": [
        "![HPEDEVlogo](Pictures/hpedevlogo-NB.JPG)\n",
        "\n",
        "# Thank you for visiting the Hack Shack\n",
        "\n",
        "Powered by [HPE DEV Team](hpedev.io)\n",
        "\n",
        "\n",
        "# Conclusion\n",
        "\n",
        "In the following workshop, you have learned about the API Basics. You have placed your first API calls using Postman and curl. This simple API only accepted GET calls, so one might argue everything could have been handled by a standard browser. The advantage of using Postman is that you can save your calls and start building collections of API calls that are useful in your job. We used a very limited API to get the weather report in Paris, but the exact same technique (using Postman) could be applied with other REST APIs, such as the ones from HPE OneView, HPE SimpliVity or HPE iLO.\n",
        "\n",
        "Congratulations!\n",
        "\n",
        "# Final steps\n",
        "Please take a moment to fill out our [survey](https://forms.office.com/Pages/ResponsePage.aspx?id=YSBbEGm2MUuSrCTTBNGV3KHzFdd987lBoQATWJq45DdUMlZMVkZPRlIwSjFMRlBVNEhTQUhVRVRZOS4u).\n",
        "\n",
        "And make sure you use File -> Log Out menu to terminate your workshop session.\n",
        "\n",
        "# Thank you\n",
        "![ThankYou](Pictures/grommet.JPG)"
      ]
    },
    {
      "cell_type": "code",
      "execution_count": null,
      "metadata": {},
      "outputs": [],
      "source": []
    }
  ],
  "metadata": {
    "kernelspec": {
      "display_name": "Bash",
      "language": "bash",
      "name": "bash"
    },
    "language_info": {
      "codemirror_mode": "shell",
      "file_extension": ".sh",
      "mimetype": "text/x-sh",
      "name": "bash"
    }
  },
  "nbformat": 4,
  "nbformat_minor": 4
}
