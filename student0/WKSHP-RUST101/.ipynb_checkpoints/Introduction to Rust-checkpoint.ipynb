{
 "cells": [
  {
   "cell_type": "markdown",
   "metadata": {
    "slideshow": {
     "slide_type": "slide"
    }
   },
   "source": [
    "<div>\n",
    "<img src=\"Pictures/rustacean-flat-happy.svg\" width=\"200\">\n",
    "</div>\n",
    "\n",
    "# An Introduction to Rust and Lessons Learned from HPE Primera Integration.\n",
    "\n",
    "By Jonathan Parris and Malachi Thomas"
   ]
  },
  {
   "cell_type": "markdown",
   "metadata": {
    "jupyter": {
     "source_hidden": true
    }
   },
   "source": [
    "# Agenda\n",
    "* About Us\n",
    "* Overview of Rust\n",
    "    * Performance\n",
    "    * Ecosystem\n",
    "    * Language Introduction\n",
    "* Lessons Learned from Integration into HPE Primera.\n",
    "\n",
    "---"
   ]
  },
  {
   "cell_type": "markdown",
   "metadata": {
    "jupyter": {
     "source_hidden": true
    }
   },
   "source": [
    "# About US\n",
    "\n",
    "* **Jonathan Parris** is a developer based out of Colorado Springs CO working on HPE Primera OS Security. I've been with HPE for 8 Years. \n",
    "\n",
    "* **Malachi Thomas** is a developer based out of San Jose, CA working on HPE Primera OS Security. I've been with HPE for 4 Years. \n",
    "\n",
    "---"
   ]
  },
  {
   "cell_type": "markdown",
   "metadata": {
    "jupyter": {
     "source_hidden": true
    }
   },
   "source": [
    "# What is Rust?\n",
    "\n",
    "* Systems programming language\n",
    "* Originally created by Graydon Hoare at Mozilla Research in 2010\n",
    "    - Now mostly a community project, main developers still employed by Mozilla\n",
    "    - The Rust Core Team recently created a foundation to ensure an independent future\n",
    "* Emphasis on zero-cost abstractions to ensure memory safety\n",
    "* Ownership system causes many memory issues to become compile-time errors\n",
    "    - This includes multithreaded applications!\n",
    "* Highly expressive type system\n",
    "\n",
    "---"
   ]
  },
  {
   "cell_type": "markdown",
   "metadata": {
    "jupyter": {
     "source_hidden": true
    }
   },
   "source": [
    "# Why did we choose Rust?\n",
    "* The primary deciding factor in choosing Rust was due to its reliability and security.\n",
    "* Rust’s rich type system and ownership model guarantee memory-safety and thread-safety — and enable you to eliminate many classes of bugs at compile-time. \n",
    "* Mozilla [found](https://hacks.mozilla.org/2019/02/rewriting-a-browser-component-in-rust/) during the rewrite of their CSS engine that 74% of security issues would have been prevented by Rust had been used from the beginning. This was after two previous attempts to overhaul their CSS engine in C++ failed due to similar numbers of errors as the current engine.\n",
    "* Microsoft has found that [roughly 70%](https://msrc-blog.microsoft.com/2019/07/22/why-rust-for-safe-systems-programming/) of CVEs they filed would have been eliminated by Rust.\n",
    "* The Chromium project also found that [roughly 70%](https://www.chromium.org/Home/chromium-security/memory-safety) of their security issues are memory-safety related and would have been eliminated by Rust.\n",
    "\n",
    "---"
   ]
  },
  {
   "cell_type": "markdown",
   "metadata": {
    "jupyter": {
     "source_hidden": true
    }
   },
   "source": [
    "# Rust's Performance\n",
    "* Rust is fast and memory-efficient: with no runtime or garbage collector, it can power performance-critical services, run on embedded devices, and easily integrate with other languages. \n",
    "* According to the Debian benchmarking game, Rust is comparable to [C](https://benchmarksgame-team.pages.debian.net/benchmarksgame/fastest/rust.html) / [C++](https://benchmarksgame-team.pages.debian.net/benchmarksgame/fastest/rust-gpp.html)  and an order of magnitude faster than [Go](https://benchmarksgame-team.pages.debian.net/benchmarksgame/fastest/rust-go.html).\n",
    "* The Amazon [Firecracker](https://firecracker-microvm.github.io/) project uses Rust to implement a Virtual Machine Manager that enables a micro-VM to start in 125ms and run with less than 5 MB of overhead.\n",
    "\n",
    "---"
   ]
  },
  {
   "cell_type": "markdown",
   "metadata": {
    "jupyter": {
     "source_hidden": true
    }
   },
   "source": [
    "# Rust's Ecosystem\n",
    "## [Cargo](https://doc.rust-lang.org/cargo/)\n",
    "* Build system & Dependency Manager.\n",
    "* [crates.io](https://crates.io) - 47k open source libraries.\n",
    "* [docs.rs](https://docs.rs) – Hosted documentation, Cargo can produce formatted documentation from comments in code.\n",
    "\n",
    "# [Clippy](https://github.com/rust-lang/rust-clippy)\n",
    "* Linter which catch common mistakes.\n",
    "* Currently 421 individual lints.\n",
    "\n",
    "## [Fmt](https://github.com/rust-lang/rustfmt) \n",
    "* Ensures consistent formatting.\n",
    "\n",
    "---"
   ]
  },
  {
   "cell_type": "markdown",
   "metadata": {
    "jupyter": {
     "source_hidden": true
    }
   },
   "source": [
    "<div>\n",
    "<img src=\"Pictures/cuddlyferris.svg\" width=\"200\">\n",
    "</div>\n",
    "\n",
    "# Language Overview\n",
    "\n",
    "---\n",
    "## Primitives\n",
    "* `bool`\n",
    "* `char`\n",
    "* signed integers: `i8`, `i16`, `i32`, `i64`, `i128` and `isize`\n",
    "* unsigned integers: `u8`, `u16`, `u32`, `u64`, `u128` and `usize`\n",
    "* floating point: `f32`, `f64`\n",
    "* unit type `()`, which can only be an empty tuple \n",
    "\n",
    "---\n",
    "## `let`'s do some declarations\n",
    "* The keyword `let` is used to define variables.\n",
    "* `let <variable name> = <value>;`\n",
    "    - e.g. `let meaning_of_life = 41;`\n",
    "* Variables can be type annotated using `<variable name>: <type>`\n",
    "    - Our previous example can be rewritten `let meaning_of_life: usize = 41;`\n",
    "    - Rust can often infer or use the a default type\n",
    "    - Rust is *statically* typed"
   ]
  },
  {
   "cell_type": "code",
   "execution_count": null,
   "metadata": {
    "jupyter": {
     "source_hidden": true
    }
   },
   "outputs": [],
   "source": [
    "let meaning_of_life = 41;\n",
    "meaning_of_life += 1;\n",
    "println!(\"Answer to the Ultimate Question of Life, the Universe, and Everything is {}.\", meaning_of_life);"
   ]
  },
  {
   "cell_type": "markdown",
   "metadata": {
    "jupyter": {
     "source_hidden": true
    }
   },
   "source": [
    "---\n",
    "# Immutability and Mutability\n",
    "* All variable bindings are immutable by default \n",
    "* The `mut` keyword is used make a variable mutable \n",
    "* Immutability is stronger than C's `const`, we can't `void *` it away"
   ]
  },
  {
   "cell_type": "code",
   "execution_count": null,
   "metadata": {
    "jupyter": {
     "source_hidden": true
    }
   },
   "outputs": [],
   "source": [
    "let mut  meaning_of_life = 41;\n",
    "meaning_of_life += 1;\n",
    "println!(\"Answer to the Ultimate Question of Life, the Universe, and Everything is {}.\", meaning_of_life);"
   ]
  },
  {
   "cell_type": "markdown",
   "metadata": {
    "jupyter": {
     "source_hidden": true
    }
   },
   "source": [
    "---\n",
    "# Control Flow\n",
    "\n",
    "## `if`/`else`\n",
    "* Bog standard with a few twists"
   ]
  },
  {
   "cell_type": "code",
   "execution_count": null,
   "metadata": {
    "jupyter": {
     "source_hidden": true
    }
   },
   "outputs": [],
   "source": [
    "let mut foo = String::new();\n",
    "let n = 10;\n",
    "\n",
    "if n < 0 {\n",
    "    foo = format!(\"{} is negative\", n);\n",
    "} else if n > 0 {\n",
    "    foo = format!(\"{} is positive\", n);\n",
    "} else {\n",
    "    foo = format!(\"{} is zero\", n);\n",
    "}\n",
    "println!(\"{}\", foo);"
   ]
  },
  {
   "cell_type": "markdown",
   "metadata": {
    "jupyter": {
     "source_hidden": true
    }
   },
   "source": [
    "* Each branch is an expression that has a return\n",
    "* All branches must return the same type\n",
    "* This means we can assign the result of a `if`/`else`"
   ]
  },
  {
   "cell_type": "code",
   "execution_count": null,
   "metadata": {
    "jupyter": {
     "source_hidden": true
    }
   },
   "outputs": [],
   "source": [
    "let n = -10;\n",
    "let foo = if n < 0 {\n",
    "    format!(\"{} is negative\", n)\n",
    "} else if n > 0 {\n",
    "    format!(\"{} is positive\", n)\n",
    "} else {\n",
    "    format!(\"{} is zero\", n)\n",
    "};\n",
    "println!(\"{}\", foo);"
   ]
  },
  {
   "cell_type": "markdown",
   "metadata": {
    "jupyter": {
     "source_hidden": true
    }
   },
   "source": [
    "## `match`\n",
    "* similar to C's `switch`\n",
    "* **all possible patterns must be covered**\n",
    "* are the bee's knees"
   ]
  },
  {
   "cell_type": "code",
   "execution_count": null,
   "metadata": {
    "jupyter": {
     "source_hidden": true
    }
   },
   "outputs": [],
   "source": [
    "let boolean = true;\n",
    "let binary = match boolean {\n",
    "    true => 1,\n",
    "};"
   ]
  },
  {
   "cell_type": "markdown",
   "metadata": {
    "jupyter": {
     "source_hidden": true
    }
   },
   "source": [
    "## other pattern\n",
    "* Multiple values can be matched with `|`.\n",
    "    - `2 | 3 | 5 | 7 | 11 => println!(\"This is a prime\"),`\n",
    "* Ranges can be used\n",
    "    - `13..20 => println!(\"A teen\"),`\n",
    "* `_` matches all patterns.\n",
    "    - `_ => println!(\"Ain't special\"),`"
   ]
  },
  {
   "cell_type": "code",
   "execution_count": null,
   "metadata": {
    "jupyter": {
     "source_hidden": true
    }
   },
   "outputs": [],
   "source": [
    "let number = 13;\n",
    "match number {\n",
    "    1 => println!(\"One!\"),\n",
    "    2 | 3 | 5 | 7 | 11 => println!(\"This is a prime\"),\n",
    "    13..=19 => println!(\"A teen\"),\n",
    "    _ => println!(\"Ain't special\"),\n",
    "};"
   ]
  },
  {
   "cell_type": "markdown",
   "metadata": {
    "jupyter": {
     "source_hidden": true
    }
   },
   "source": [
    "## `loop`\n",
    "* `loop` is used to create an infinite loop.\n",
    "* `break` is used to break out of the loop.\n",
    "* `continue` is used to skip the rest of the loop."
   ]
  },
  {
   "cell_type": "code",
   "execution_count": null,
   "metadata": {
    "jupyter": {
     "source_hidden": true
    }
   },
   "outputs": [],
   "source": [
    "let mut count = 0u32;\n",
    "loop {\n",
    "    count += 1;\n",
    "    if count == 3 {\n",
    "        println!(\"three\");\n",
    "        continue;\n",
    "    }\n",
    "    println!(\"{}\", count);\n",
    "     if count == 5 {\n",
    "        println!(\"OK, that's enough\");\n",
    "        break;\n",
    "    }\n",
    "};"
   ]
  },
  {
   "cell_type": "markdown",
   "metadata": {
    "jupyter": {
     "source_hidden": true
    }
   },
   "source": [
    "## `while`\n",
    "* continues to loop while the condition is true"
   ]
  },
  {
   "cell_type": "code",
   "execution_count": null,
   "metadata": {
    "jupyter": {
     "source_hidden": true
    }
   },
   "outputs": [],
   "source": [
    "let mut n = 1;\n",
    "while n < 16 {\n",
    "    if n % 15 == 0 {\n",
    "        println!(\"fizzbuzz\");\n",
    "    } else if n % 3 == 0 {\n",
    "        println!(\"fizz\");\n",
    "    } else if n % 5 == 0 {\n",
    "        println!(\"buzz\");\n",
    "    } else {\n",
    "        println!(\"{}\", n);\n",
    "    }\n",
    "    n += 1;\n",
    "};"
   ]
  },
  {
   "cell_type": "markdown",
   "metadata": {
    "jupyter": {
     "source_hidden": true
    }
   },
   "source": [
    "## `for` and `range`\n",
    "* `for` allows us to go through an `Iterator`.\n",
    "* `range` is a notation, `a..b`, to create a `Iterator` for a given range of numbers. \n",
    "* We can simplify the previous example."
   ]
  },
  {
   "cell_type": "code",
   "execution_count": null,
   "metadata": {
    "jupyter": {
     "source_hidden": true
    }
   },
   "outputs": [],
   "source": [
    "for n in 1..16 {\n",
    "    if n % 15 == 0 {\n",
    "        println!(\"fizzbuzz\");\n",
    "    } else if n % 3 == 0 {\n",
    "        println!(\"fizz\");\n",
    "    } else if n % 5 == 0 {\n",
    "        println!(\"buzz\");\n",
    "    } else {\n",
    "        println!(\"{}\", n);\n",
    "    }\n",
    "};"
   ]
  },
  {
   "cell_type": "markdown",
   "metadata": {
    "jupyter": {
     "source_hidden": true
    }
   },
   "source": [
    "---\n",
    "# Arrays\n",
    "* An Array is a collection of objects of the same type and are stored in contiguous memory.\n",
    "* This means that their size must be known at compile time.\n",
    " `let <var>: [<type>; size] = [];`\n",
    "* They can be indexed like C arrays\n",
    " \n",
    "# Slices\n",
    "* Are used to borrow a slice of the array\n",
    "* Uses the range syntax"
   ]
  },
  {
   "cell_type": "code",
   "execution_count": null,
   "metadata": {
    "jupyter": {
     "source_hidden": true
    }
   },
   "outputs": [],
   "source": [
    "let array: [i32; 5] = [0, 1, 2, 3, 4];\n",
    "\n",
    "println!(\"Indexing directly {}\", array[4]);\n",
    "\n",
    "for x in &array[0..3] {\n",
    "\tprintln!(\"x is {}\", x);\n",
    "};"
   ]
  },
  {
   "cell_type": "markdown",
   "metadata": {
    "jupyter": {
     "source_hidden": true
    }
   },
   "source": [
    "---\n",
    "# Tuples\n",
    "* A tuple is a collection of values with different type.\n",
    "    * Defined using `()` e.g., `(\"Meaning of life\", 42)`\n",
    "* Often used to return multiple types from a function."
   ]
  },
  {
   "cell_type": "code",
   "execution_count": null,
   "metadata": {
    "jupyter": {
     "source_hidden": true
    }
   },
   "outputs": [],
   "source": [
    "let t = (\"Meaning of life\", 42);\n",
    "println!(\"{} is {}\", t.0, t.1);"
   ]
  },
  {
   "cell_type": "markdown",
   "metadata": {
    "jupyter": {
     "source_hidden": true
    }
   },
   "source": [
    "Tuples can be deconstructed  using let e.g., `let (var1, var2) = tuple`"
   ]
  },
  {
   "cell_type": "code",
   "execution_count": null,
   "metadata": {
    "jupyter": {
     "source_hidden": true
    }
   },
   "outputs": [],
   "source": [
    "let t = (\"Meaning of life\", 42);\n",
    "let (question, answer) = t;\n",
    "println!(\"{} is {}\", question, answer);"
   ]
  },
  {
   "cell_type": "markdown",
   "metadata": {
    "jupyter": {
     "source_hidden": true
    }
   },
   "source": [
    "---\n",
    "# Functions\n",
    "* Functions are declared using `fn` e.g., `fn meaning_of_life()`"
   ]
  },
  {
   "cell_type": "code",
   "execution_count": null,
   "metadata": {
    "jupyter": {
     "source_hidden": true
    }
   },
   "outputs": [],
   "source": [
    "fn meaning_of_life () {\n",
    "    println!(\"42\");\n",
    "}\n",
    "meaning_of_life();"
   ]
  },
  {
   "cell_type": "markdown",
   "metadata": {
    "jupyter": {
     "source_hidden": true
    }
   },
   "source": [
    "## Parameters\n",
    "* Parameter are declared with `<name>: <type>` and delimited with a commas"
   ]
  },
  {
   "cell_type": "code",
   "execution_count": null,
   "metadata": {
    "jupyter": {
     "source_hidden": true
    }
   },
   "outputs": [],
   "source": [
    "fn meaning_of_life (meaning: u32) {\n",
    "    println!(\"{}\", meaning);\n",
    "}\n",
    "meaning_of_life(42);"
   ]
  },
  {
   "cell_type": "markdown",
   "metadata": {
    "jupyter": {
     "source_hidden": true
    }
   },
   "source": [
    "## Returns are declared at the end of the using `->` syntax. \n",
    "* `-> <type>`.\n",
    "    * e.g., `fn meaning_of_life() -> i32`\n",
    "* `-> (<type1>, <type2>)`.     \n",
    "    * e.g., `fn i_return_a_tuple() -> (i32, f64, usize)`\n",
    "* `-> ()` this function does not return anything and can be omitted.\n",
    "    * `fn i_dont_return_anything()` and `fn i_dont_return_anything() -> ()` are equivalent.\n",
    "* `!` this function does not return, e.g. a program exiting or the OS shutting down.\n",
    "        * `fn exit_process() -> !`"
   ]
  },
  {
   "cell_type": "code",
   "execution_count": null,
   "metadata": {
    "jupyter": {
     "source_hidden": true
    }
   },
   "outputs": [],
   "source": [
    "fn meaning_of_life () -> u32 {\n",
    "    42\n",
    "}\n",
    "println!(\"{:?}\", meaning_of_life());"
   ]
  },
  {
   "cell_type": "markdown",
   "metadata": {
    "jupyter": {
     "source_hidden": true
    }
   },
   "source": [
    "---\n",
    "# Structs\n",
    "There are three different sytles are structs you'll see.\n",
    "\n",
    "## 1. Tuple structs.\n",
    "Named structs but unamed fields\n"
   ]
  },
  {
   "cell_type": "code",
   "execution_count": null,
   "metadata": {
    "jupyter": {
     "source_hidden": true
    }
   },
   "outputs": [],
   "source": [
    "struct Pair(i32, f32);\n",
    "let p = Pair(1, 42.0);\n",
    "println!(\"{:?}\", p.1);"
   ]
  },
  {
   "cell_type": "markdown",
   "metadata": {
    "jupyter": {
     "source_hidden": true
    }
   },
   "source": [
    "## 2. C style structs\n",
    "Named structs and named fields \n"
   ]
  },
  {
   "cell_type": "code",
   "execution_count": null,
   "metadata": {
    "jupyter": {
     "source_hidden": true
    }
   },
   "outputs": [],
   "source": [
    "struct Point {\n",
    "    x: u32,\n",
    "    y: u32,\n",
    "}\n",
    "let p = Point {x: 42, y:42};\n",
    "println!(\"{:?}\", p.x);"
   ]
  },
  {
   "cell_type": "markdown",
   "metadata": {
    "jupyter": {
     "source_hidden": true
    }
   },
   "source": [
    "## 3. Unit structs\n",
    "Named struct with *no fields*. Useful when implementing generics.\n",
    "```rust\n",
    "struct world;\n",
    "let _ = world;\n",
    "```"
   ]
  },
  {
   "cell_type": "markdown",
   "metadata": {
    "jupyter": {
     "source_hidden": true
    }
   },
   "source": [
    "## Struct methods.\n",
    "* Methods are functions attached to objects.\n",
    "* The `impl` keyword is used to declare methods.\n",
    "* Methods are given access to the interior state of the struct by passing the `&self` as the first parameter.\n",
    "* Methods can mutate the struct by passing `&mut self`\n"
   ]
  },
  {
   "cell_type": "code",
   "execution_count": null,
   "metadata": {
    "jupyter": {
     "source_hidden": true
    }
   },
   "outputs": [],
   "source": [
    "struct Point {\n",
    "    x: f64,\n",
    "    y: f64,\n",
    "}\n",
    "\n",
    "impl Point {\n",
    "    fn new(x: f64, y: f64) -> Point {\n",
    "        Point { x: x, y: y }\n",
    "    }\n",
    "    fn print_x(&self) {\n",
    "        println!(\"{}\",self.x);\n",
    "    }\n",
    "    fn set_x(&mut self, nu_x: f64) {\n",
    "        self.x = nu_x;\n",
    "    }\n",
    "}\n",
    "\n",
    "let mut p = Point::new(0.0, 0.0);\n",
    "p.print_x();\n",
    "p.set_x(42.0);\n",
    "p.print_x();"
   ]
  },
  {
   "cell_type": "markdown",
   "metadata": {
    "jupyter": {
     "source_hidden": true
    }
   },
   "source": [
    "---\n",
    "# Enums\n",
    "\n",
    "The `enum` keyword allow us create a type that enumerates the possible subtypes.\n",
    "\n",
    "```rust\n",
    "pub enum SocketAddr {\n",
    "    V4,\n",
    "    V6,\n",
    "}\n",
    "```\n",
    "\n",
    "Unlike C these subtypes can contain arbitrary data.\n",
    "```rust\n",
    "pub enum SocketAddr {\n",
    "    V4(SocketAddrV4),\n",
    "    V6(SocketAddrV6),\n",
    "}\n",
    "```\n"
   ]
  },
  {
   "cell_type": "code",
   "execution_count": null,
   "metadata": {
    "jupyter": {
     "source_hidden": true
    }
   },
   "outputs": [],
   "source": [
    "enum Meaning {\n",
    "    NoData,\n",
    "    Question(String),\n",
    "    Answer(u32),\n",
    "}\n",
    "\n",
    "fn print_meaning(m: Meaning) {\n",
    "    match m {\n",
    "        Meaning::NoData => println!(\"nada\"),\n",
    "        Meaning::Question(q) => println!(\"Question is {}\", q),\n",
    "        Meaning::Answer(a) => println!(\"Answer is {}\", a),\n",
    "    }\n",
    "}\n",
    "\n",
    "print_meaning(Meaning::NoData);\n",
    "print_meaning(Meaning::Question(\"the meaning of Life, the Universe, and Everything\".to_string()));\n",
    "print_meaning(Meaning::Answer(42));"
   ]
  },
  {
   "cell_type": "markdown",
   "metadata": {
    "jupyter": {
     "source_hidden": true
    }
   },
   "source": [
    "---\n",
    "# Error Handling\n",
    "* Rusts Error Handling is built on `enum`s. The two types you'll encounter are `Option` and `Result`\n",
    "\n",
    "## Option\n",
    "* `Option` - a `enum` where the value is optional represented by either `Some` or `None`\n",
    "```rust\n",
    "pub enum Option<T> {\n",
    "    None,\n",
    "    Some(T),\n",
    "}\n",
    "```"
   ]
  },
  {
   "cell_type": "code",
   "execution_count": null,
   "metadata": {
    "jupyter": {
     "source_hidden": true
    }
   },
   "outputs": [],
   "source": [
    "let mut v = vec![0, 1, 2];\n",
    "println!(\"{:?}\", v.pop());\n",
    "println!(\"{:?}\", v.pop());\n",
    "println!(\"{:?}\", v.pop());\n",
    "println!(\"{:?}\", v.pop());"
   ]
  },
  {
   "cell_type": "markdown",
   "metadata": {
    "jupyter": {
     "source_hidden": true
    }
   },
   "source": [
    "## Result\n",
    "`Result` - used for returning errors. Return values are wrapped in `Ok` and Errors in `Err`.\n",
    "\n",
    "```rust\n",
    "pub enum Result<T, E> {\n",
    "    Ok(T),\n",
    "    Err(E),\n",
    "}\n",
    "```"
   ]
  },
  {
   "cell_type": "code",
   "execution_count": null,
   "metadata": {
    "jupyter": {
     "source_hidden": true
    }
   },
   "outputs": [],
   "source": [
    "#[derive(Debug)]\n",
    "enum MathError {\n",
    "    DivideByZero,\n",
    "}\n",
    "\n",
    "fn divide(numerator: f64, denominator: f64) -> Result<f64, MathError> {\n",
    "    if denominator == 0.0 {\n",
    "        Err(MathError::DivideByZero)\n",
    "    } else {\n",
    "        Ok(numerator / denominator)\n",
    "    }\n",
    "}\n",
    "println!(\"{:?}\", divide(42.0, 0.0));\n",
    "println!(\"{:?}\", divide(42.0, 1.0));"
   ]
  },
  {
   "cell_type": "markdown",
   "metadata": {
    "jupyter": {
     "source_hidden": true
    }
   },
   "source": [
    "## `unwrap` & `except`\n",
    "* **Warning** these functions panic. They should not be used in production, only during prototyping and tests\n",
    "* `unwrap` unpack the `enum` and panics on `None` and `Err`.\n",
    "* `expect` same as unwrap but adds a message."
   ]
  },
  {
   "cell_type": "code",
   "execution_count": null,
   "metadata": {
    "jupyter": {
     "source_hidden": true
    }
   },
   "outputs": [],
   "source": [
    "#[derive(Debug)]\n",
    "enum MathError {\n",
    "    DivideByZero,\n",
    "}\n",
    "\n",
    "fn divide(numerator: f64, denominator: f64) -> Result<f64, MathError> {\n",
    "    if denominator == 0.0 {\n",
    "        Err(MathError::DivideByZero)\n",
    "    } else {\n",
    "        Ok(numerator / denominator)\n",
    "    }\n",
    "}\n",
    "println!(\"{:?}\", divide(42.0, 0.0).expect(\"whoops\"));"
   ]
  },
  {
   "cell_type": "markdown",
   "metadata": {
    "jupyter": {
     "source_hidden": true
    }
   },
   "source": [
    "## `?`\n",
    "* Using `Option` and `Result` becomes unwieldly to unpacked the value or propagate the error. The `?` is used to simplify this overhead."
   ]
  },
  {
   "cell_type": "code",
   "execution_count": null,
   "metadata": {
    "jupyter": {
     "source_hidden": true
    }
   },
   "outputs": [],
   "source": [
    "#[derive(Debug)]\n",
    "enum MathError {\n",
    "    DivideByZero,\n",
    "    ImaginaryNumber,\n",
    "}\n",
    "\n",
    "fn divide(numerator: f64, denominator: f64) -> Result<f64, MathError> {\n",
    "    if denominator == 0.0 {\n",
    "        Err(MathError::DivideByZero)\n",
    "    } else {\n",
    "        Ok(numerator / denominator)\n",
    "    }\n",
    "}\n",
    "\n",
    "fn sqrt(num: f64) -> Result<f64, MathError> {\n",
    "    if num < 0.0 {\n",
    "        Err(MathError::ImaginaryNumber)\n",
    "    } else {\n",
    "        Ok(num.sqrt())\n",
    "    }\n",
    "}\n",
    "\n",
    "fn check_num(num: f64) -> Result<(), MathError> {\n",
    "    divide(42.0, num)?;\n",
    "    sqrt(num)?;\n",
    "    Ok(())\n",
    "}\n",
    "\n",
    "println!(\"{:?}\", check_num(0.0));\n",
    "println!(\"{:?}\", check_num(-1.0));"
   ]
  },
  {
   "cell_type": "markdown",
   "metadata": {
    "jupyter": {
     "source_hidden": true
    }
   },
   "source": [
    "---\n",
    "# Ownership\n",
    "\n",
    "System for working with references and memory allocation\n",
    "\n",
    "There are 3 rules for ownership:\n",
    "1. Each value in Rust has a variable that’s called its owner\n",
    "1. There can only be one owner at a time\n",
    "1. When the owner goes out of scope, the value will be dropped\n",
    "\n",
    "In the example below we pass the `String s` to the function `do_somthing`\n",
    "* This transfers ownership of `String s` to `do_somthing`\n",
    "* After do_somthing returns `String s` is free`d.\n",
    "* And we can no longer do anything with it."
   ]
  },
  {
   "cell_type": "code",
   "execution_count": null,
   "metadata": {
    "jupyter": {
     "source_hidden": true
    }
   },
   "outputs": [],
   "source": [
    "fn do_something(_s: String) {\n",
    "\tprintln!(\"Aaaaand the String is gone!\");\n",
    "}\n",
    "\n",
    "let s = \"Hello\".to_string();\n",
    "do_something(s);\n",
    "dbg!(s); // Compile-time error! Value is now owned by do_something() and was freed!"
   ]
  },
  {
   "cell_type": "markdown",
   "metadata": {
    "jupyter": {
     "source_hidden": true
    }
   },
   "source": [
    "# Borrowing\n",
    "* Borrowing has its own rules that enforced at compile time.\n",
    "* At any time, you can have *either* but not both of\n",
    "    * One Mutable Reference\n",
    "    * Infinite Immutable References\n",
    "* These rules make many memory management issues into compile-time errors\n",
    "    * Dangling pointer, use after free\n",
    "* These are also the main rules for avoiding data races!\n",
    "    * Turns many concurrency errors into compile-time errors\n",
    "    * Many concurrency issues can be resolved with a combination of the safety provided by the borrow system as well as Rust's type system\n",
    "\n",
    "### Example\n",
    "* In our example in order to retain ownership of `s` we can change `do_something` to borrow `s`.\n",
    "* Using `&` in type declaration indicates the value is borrowed."
   ]
  },
  {
   "cell_type": "code",
   "execution_count": null,
   "metadata": {
    "jupyter": {
     "source_hidden": true
    }
   },
   "outputs": [],
   "source": [
    "fn do_something(_s: &String) {\n",
    "    println!(\"It’s still yours!\");\n",
    "}\n",
    "\n",
    "let s = \"Hello\".to_string();\n",
    "do_something(&s);\n",
    "println!(\"{}\", s);"
   ]
  },
  {
   "cell_type": "markdown",
   "metadata": {
    "jupyter": {
     "source_hidden": true
    }
   },
   "source": [
    "# Mutable Borrowing\n",
    "* In order to change `s` we need change our type declaration to include `mut`"
   ]
  },
  {
   "cell_type": "code",
   "execution_count": null,
   "metadata": {
    "jupyter": {
     "source_hidden": true
    }
   },
   "outputs": [],
   "source": [
    "fn do_something_mutable(value: &mut String) {\n",
    "    value.push_str(\" world!\");\n",
    "}\n",
    "\n",
    "let mut s = \"Hello\".to_string();\n",
    "do_something_mutable(&mut s);\n",
    "println!(\"{}\", s);"
   ]
  },
  {
   "cell_type": "markdown",
   "metadata": {
    "jupyter": {
     "source_hidden": true
    }
   },
   "source": [
    "---\n",
    "\n",
    "<div>\n",
    "<img src=\"Pictures/unsafe.svg\" width=\"200\">\n",
    "</div>\n",
    "\n",
    "# `unsafe`\n",
    "* The `unsafe` keyword allows you declare a block of code where it gives access to these five superpowers\n",
    "    * Dereferencing raw pointers\n",
    "    * Calling functions or methods which are unsafe; usually FFI functions.\n",
    "    * Accessing or modifying static mutable variables\n",
    "    * Implement an unsafe trait\n",
    "    * Access fields of unions\n",
    "* This does **not** disable all of rusts safety guarantees just grant access to these superpowers and marks specific location where memory issue can occurs allowing for faster debugging.\n",
    "\n"
   ]
  },
  {
   "cell_type": "code",
   "execution_count": null,
   "metadata": {
    "jupyter": {
     "source_hidden": true
    }
   },
   "outputs": [],
   "source": [
    "let raw_p: *const u32 = &10;\n",
    "\n",
    "unsafe {\n",
    "    assert!(*raw_p == 10);\n",
    "}"
   ]
  },
  {
   "cell_type": "markdown",
   "metadata": {
    "jupyter": {
     "source_hidden": true
    }
   },
   "source": [
    "---\n",
    "# FFI Integration\n",
    "* Rust exposes a C ABI that makes it straightforward to interface with other languages.\n",
    "\n",
    "## Calling C from Rust\n",
    "### C\n",
    "```c\n",
    "int double_input(int input) {\n",
    "    return input * 2;\n",
    "}\n",
    "```\n",
    "\n",
    "### Rust\n",
    "```rust\n",
    "extern {\n",
    "    fn double_input(input: libc::c_int) -> libc::c_int;\n",
    "}\n",
    "\n",
    "fn main() {\n",
    "    let input = 4;\n",
    "    let output = unsafe { double_input(input) };\n",
    "    println!(\"{} * 2 = {}\", input, output);\n",
    "}\n",
    "```\n",
    "\n",
    "## Calling Rust from C\n",
    "### Rust\n",
    "```rust\n",
    "#[no_mangle]\n",
    "pub extern fn double_input(input: i32) -> i32 {\n",
    "    input * 2\n",
    "}\n",
    "```\n",
    "\n",
    "### C\n",
    "```c\n",
    "extern int32_t double_input(int32_t input);\n",
    "\n",
    "int main() {\n",
    "    int input = 4;\n",
    "    int output = double_input(input);\n",
    "    printf(\"%d * 2 = %d\\n\", input, output);\n",
    "    return 0;\n",
    "}\n",
    "```\n",
    "* [For examples binding to other languages see this set of examples](https://github.com/alexcrichton/rust-ffi-examples)"
   ]
  },
  {
   "cell_type": "markdown",
   "metadata": {
    "jupyter": {
     "source_hidden": true
    }
   },
   "source": [
    "---\n",
    "# Tests\n",
    "* Rust has support for inline tests.\n",
    "\n",
    "```Rust\n",
    "#[derive(Debug)]\n",
    "enum MathError {\n",
    "    DivideByZero,\n",
    "}\n",
    "\n",
    "fn divide(numerator: f64, denominator: f64) -> Result<f64, MathError> {\n",
    "    if denominator == 0.0 {\n",
    "        Err(MathError::DivideByZero)\n",
    "    } else {\n",
    "        Ok(numerator / denominator)\n",
    "    }\n",
    "}\n",
    "\n",
    "#[test]\n",
    "fn div_by_zero() {\n",
    "    assert_eq!(divide(42.0), Err(MathError::DivideByZero))\n",
    "}\n",
    "```"
   ]
  },
  {
   "cell_type": "markdown",
   "metadata": {
    "jupyter": {
     "source_hidden": true
    }
   },
   "source": [
    "# Lessons Learned from Integrating into HPE Primera\n",
    "## Background\n",
    "* Primera is a distributed storage product that has been around for about 20 years \n",
    "* It has a large ~1.5m LOC code based composed mostly of C and TCL\n",
    "* Changes are considered conservatively and we ship on a yearly cycle\n",
    "\n",
    "## Nothing will change if you don't ask\n",
    "* At the beginning of a major rewrite we suggested rewriting in Rust\n",
    "* It was a shock to management; there wasn't an established procedure for adopting new languages\n",
    "* Several Presentations on Rust and a Proof of Concept later we we're given the green light\n",
    "\n",
    "## Rust ships a new stable compiler every six weeks.\n",
    "* We initially had to rely up the Release and Tools team (R&T) to install Rust.\n",
    "* Keeping version in sync across build servers was a problem, as we needed to involve R&T for every update\n",
    "* Later moved to a mechanism so that We can now update Rust without R&T\n",
    "\n",
    "## Learning Curve\n",
    "* The ownership model requires programmers to think more carefully about their use of data\n",
    "* The type system is very robust and takes some getting used to, especially with the improved enums\n",
    "* These can be confusing at first and lead to a higher than normal learning curve\n"
   ]
  },
  {
   "cell_type": "markdown",
   "metadata": {
    "jupyter": {
     "source_hidden": true
    }
   },
   "source": [
    "---\n",
    "# Further Reading\n",
    "\n",
    "<div>\n",
    "<img src=\"Pictures/rustdocs.png\" width=\"200\">\n",
    "</div>\n",
    "\n",
    "* [The Rust Programming Language](https://doc.rust-lang.org/book/) a.k.a The Book\n",
    "* [Std docs](https://doc.rust-lang.org/std/)\n",
    "* [Nomicon](https://doc.rust-lang.org/nomicon) - The Dark Arts of Unsafe Rust\n",
    "* [Rust by Example](https://doc.rust-lang.org/stable/rust-by-example/)\n",
    "* [Evcxr](https://github.com/google/evcxr) - The Rust Jupyter Kernel used during this presentation"
   ]
  },
  {
   "cell_type": "markdown",
   "metadata": {
    "jupyter": {
     "source_hidden": true
    },
    "slideshow": {
     "slide_type": "slide"
    }
   },
   "source": [
    "---\n",
    "# Thank You\n",
    "<div>\n",
    "<img src=\"Pictures/rustacean-flat-gesture.svg\" width=\"200\">\n",
    "</div>\n",
    "\n",
    "* Jonathan.Parris@hpe.com\n",
    "* Malachi.Thomas@hpe.com"
   ]
  }
 ],
 "metadata": {
  "kernelspec": {
   "display_name": "Rust",
   "language": "rust",
   "name": "rust"
  },
  "language_info": {
   "codemirror_mode": "rust",
   "file_extension": ".rs",
   "mimetype": "text/rust",
   "name": "Rust",
   "pygment_lexer": "rust",
   "version": ""
  }
 },
 "nbformat": 4,
 "nbformat_minor": 4
}
