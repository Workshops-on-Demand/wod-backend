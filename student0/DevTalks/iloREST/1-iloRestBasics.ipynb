{
  "cells": [
    {
      "cell_type": "markdown",
      "metadata": {},
      "source": [
        "# toto est content\n",
        "\n",
        "Version 0.2"
      ]
    },
    {
      "cell_type": "code",
      "execution_count": null,
      "metadata": {},
      "outputs": [],
      "source": [
        "\n",
        "# Set Student ID number\n",
        "Stud=$$I\n",
        "\n",
        "# location and ports variables\n",
        "let OpenBmcHttpsPort=44000+${Stud}\n",
        "BmcHost=openbmcs\n",
        "BmcIP=${BmcHost}:${OpenBmcHttpsPort}          # OpenBMC simulator\n",
        "BmcURI=\"https://${BmcIP}\"\n",
        "ilo5IP=\"ilo5\"\n",
        "ilo5URI=\"https://${ilo5IP}\"\n",
        "\n",
        "# Credentials\n",
        "User=\"student\"\n",
        "Password='P@ssw0rd!'\n",
        "\n",
        "# Miscellaneous\n",
        "alias ilorest='ilorest --nologo --cache-dir ~/.iLOrest'\n",
        "\n",
        "# Verify we can reach the remote Bmcs on the right HTTPS ports. \n",
        "nc -vz  $ilo5IP 443 &>/dev/null &&      \\\n",
        "      echo \"${ilo5IP} is reachable\"   \\\n",
        "      || echo \"WARNING: Problem reaching ${ilo5URI}\"\n",
        "\n",
        "nc -vz  $BmcHost ${OpenBmcHttpsPort} &>/dev/null &&    \\\n",
        "      echo \"${BmcHost} is reachable\"   \\\n",
        "      || echo \"WARNING: Problem reaching ${BmcURI}\"\n"
      ]
    },
    {
      "cell_type": "code",
      "execution_count": null,
      "metadata": {},
      "outputs": [],
      "source": [
        "ilorest login $ilo5IP -u $User -p $Password"
      ]
    },
    {
      "cell_type": "code",
      "execution_count": null,
      "metadata": {},
      "outputs": [],
      "source": [
        "ilorest types"
      ]
    },
    {
      "cell_type": "code",
      "execution_count": null,
      "metadata": {},
      "outputs": [],
      "source": [
        "ilorest logout"
      ]
    },
    {
      "cell_type": "code",
      "execution_count": null,
      "metadata": {},
      "outputs": [],
      "source": [
        "ilorest login 16.31.86.70:44000 -u student -p 'P@ssw0rd!'\n",
        "#ilorest login $BmcIP -u $User -p $Password"
      ]
    },
    {
      "cell_type": "code",
      "execution_count": null,
      "metadata": {},
      "outputs": [],
      "source": [
        "ilorest types"
      ]
    },
    {
      "cell_type": "code",
      "execution_count": null,
      "metadata": {},
      "outputs": [],
      "source": [
        "ilorest select Bios.\n",
        "ilorest list --json"
      ]
    },
    {
      "cell_type": "code",
      "execution_count": null,
      "metadata": {},
      "outputs": [],
      "source": [
        "ilorest list"
      ]
    },
    {
      "cell_type": "code",
      "execution_count": null,
      "metadata": {},
      "outputs": [],
      "source": [
        "ilorest get Name"
      ]
    },
    {
      "cell_type": "code",
      "execution_count": null,
      "metadata": {},
      "outputs": [],
      "source": [
        "ilorest logout"
      ]
    }
  ],
  "metadata": {
    "kernelspec": {
      "display_name": "Bash",
      "language": "bash",
      "name": "bash"
    },
    "language_info": {
      "codemirror_mode": "shell",
      "file_extension": ".sh",
      "mimetype": "text/x-sh",
      "name": "bash"
    }
  },
  "nbformat": 4,
  "nbformat_minor": 4
}
