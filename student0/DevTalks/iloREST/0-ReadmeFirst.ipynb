{
 "cells": [
  {
   "cell_type": "markdown",
   "metadata": {},
   "source": [
    "![HPE DEV Logo](Pictures/hpe-dev-logo.png \"HPE DEV Hack Shack\")\n",
    "\n",
    "# Welcome to the DevTalk\n",
    "\n",
    "Powered by [HPE DEV Team](hpedev.io)\n",
    "\n",
    "Version 0.43\n",
    "\n",
    "# Speakers :[François Donzé](francois.donze@hpe.com)\n",
    "\n",
    "Watch my videos on [YouTube](https://www.youtube.com/channel/UCIZhrIYcNh3wHLiY4ola5ew) and read my [blogs](https://developer.hpe.com/blog)\n",
    "\n",
    "\n",
    "# Introduction to `ilorest`, the HPE RESTful Interface tool\n",
    "\n",
    "**Abstract**: TBD.\n",
    "\n",
    "# flow\n",
    "TBD\n",
    "\n",
    "## Handouts\n",
    "You can freely copy the Jupyter Notebooks, including their output, in order to practice back at your office at your own pace, leveraging a local installation of Jupyter Notebook on your laptop.\n",
    "- You install the Jupyter Notebook application from [here](https://jupyter.org/install). \n",
    "- A Beginners Guide is also available [here](https://jupyter-notebook-beginner-guide.readthedocs.io/en/latest/what_is_jupyter.html)\n",
    "To download the notebooks, just right click on them and select `Download`.\n",
    "\n",
    "Please listen now to the instructor's guidelines on how to use Jupyter and follow along as the different steps are covered. Enjoy the labs!\n",
    "\n",
    "Happy labs ! :-)\n",
    "\n",
    "\n",
    "<img src=\"https://redfish.dmtf.org/sites/default/files/DMTF_Redfish_logo_R.jpg\" alt=\"Redfish Logo\" style=\"width: 125px;\"/> "
   ]
  },
  {
   "cell_type": "markdown",
   "metadata": {},
   "source": [
    "## What is `ilorest` ? \n",
    "\n",
    "TBD\n",
    "\n",
    "## Workshop goal\n",
    "\n",
    "At the end of the workshop, you should be able to 1) TBD.\n",
    "\n",
    "\n",
    "## Workshop infrastructure\n",
    "\n",
    "Each student, or team, has a dedicated [Jupyter](https://jupyter.org/) environment hosted by a Linux host that provides a set of [Jupyter notebooks](https://jupyter-notebook-beginner-guide.readthedocs.io/en/latest/what_is_jupyter.html).\n",
    "\n",
    "The notebooks can access a dedicated [OpenBMC](https://www.openbmc.org/) appliance simulator with `GET` and `SET` methods, and a shared [HPE iLO 5](http://hpe.com/info/ilo) (in `GET` mode only).\n",
    "\n",
    "![ProgrammingRedfsihInfrastructureDescription](Pictures/BlackProgrammingRedfishInfraDescription.png)\n",
    "\n",
    "\n",
    "# Lab description\n",
    "\n",
    "> **NOTE**: Since the content of [Lab 1](1-Discover-RedfishBash.ipynb) and [Lab 2](2-Discover-RedfishPowerShell.ipynb) are identical, you can choose either one depending on your skills and preferences. If you are more Linux/Bash/cURL oriented, choose  [Lab 1](1-Discover-RedfishBash.ipynb). If you are more Windows/PowerShell focused, choose [Lab 2](2-Discover-RedfishPowerShell.ipynb). \n",
    "\n",
    "### [Lab 1](1-Discover-RedfishBash.ipynb): Redfish overview using Bash/cURL\n",
    "\n",
    "Redfish tree overview using [Bash](https://www.gnu.org/software/bash/) and [cURL](https://curl.haxx.se/) tool against an OpenBMC simulator followed by a reset of the OpenBMC. Choose this lab if you are more Linux/Bash/cURL oriented.\n",
    "\n",
    "### [Lab 2](2-Discover-RedfishPowerShell.ipynb): Redfish overview using PowerShell\n",
    "Identical to Lab 1, but uses PowerShell commands. Choose this lab if you are more Windows/PowerShell focused.\n",
    "\n",
    "### [Lab 3](3-Discover-RedfishPython.ipynb): Browsing multiple Redfish implementations using a single piece of code\n",
    "Single Python program to retrieve MAC addresses from an OpenBMC and from an HPE iLO 5. \n"
   ]
  },
  {
   "cell_type": "markdown",
   "metadata": {},
   "source": [
    "# Earn a chance to win a Canakit Raspberry Pi\n",
    "[Join the HPE DEV Community by signing up for the HPE DEV Newsletter and participate to our raffle to win !!](https://developer.hpe.com/event/aspire-us-2020?listid=11646955)\n",
    "\n",
    "# Join the HPE DEV Community - scan the QRCode below\n",
    "![QRCode](Pictures/QRCode-HPEDEV.PNG)\n",
    "\n",
    "# Thank you!\n",
    "![grommet.JPG](Pictures/grommet.jpg)"
   ]
  }
 ],
 "metadata": {
  "kernelspec": {
   "display_name": "Python 3",
   "language": "python",
   "name": "python3"
  },
  "language_info": {
   "codemirror_mode": {
    "name": "ipython",
    "version": 3
   },
   "file_extension": ".py",
   "mimetype": "text/x-python",
   "name": "python",
   "nbconvert_exporter": "python",
   "pygments_lexer": "ipython3",
   "version": "3.6.8"
  }
 },
 "nbformat": 4,
 "nbformat_minor": 4
}
