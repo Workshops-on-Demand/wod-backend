{
 "cells": [
  {
   "cell_type": "markdown",
   "metadata": {},
   "source": [
    "![enter image description here](https://developer.hpe.com/img/hpe-dev-logo-mark-anim.svg?1580730675069 \"HPE DEV Hack Shack\")\n",
    "\n",
    "# Thank you for visiting the Hack Shack\n",
    "\n",
    "Powered by [HPE DEV Team](hpedev.io)\n",
    "\n",
    "# Conclusion\n",
    "\n",
    "In this workshop, you have learned about the HPE ML Ops. Specifically, how to build and train a model, register a model, deploy a model and finally test model serving.\n",
    "\n",
    "**Congratulations!**\n"
   ]
  },
  {
   "cell_type": "markdown",
   "metadata": {},
   "source": [
    "# Final Steps\n",
    "\n",
    "1. Please delete all model artifacts\n",
    "* Navigate to Deployments screen, select the **Income_Prediction_##** checkbox and click <font color='red'>Delete</font>\n",
    "* Navigate to Model Registry screen, select the **Income_Prediction_##** checkbox and click <font color='red'>Delete</font>\n",
    "* Navigate to Notebooks screen, select the Notebook **mynotebook_##** checkbox and click <font color='red'>Delete</font>\n",
    "* Navigate to the Project Repository and delete **your userID** sub-folders, under code, models and data directories. This will delete the folders and files your model training created in the Model Development lab.\n",
    "2. Please Take a moment to fill out our [survey](https://forms.office.com/Pages/ResponsePage.aspx?id=YSBbEGm2MUuSrCTTBNGV3KHzFdd987lBoQATWJq45DdUOEZJTFBCUEJDQktPVkcyREVBRDFJOEVMOS4u)\n",
    "  \n",
    "# Thank You\n"
   ]
  }
 ],
 "metadata": {
  "kernelspec": {
   "display_name": "Python 3",
   "language": "python",
   "name": "python3"
  },
  "language_info": {
   "codemirror_mode": {
    "name": "ipython",
    "version": 3
   },
   "file_extension": ".py",
   "mimetype": "text/x-python",
   "name": "python",
   "nbconvert_exporter": "python",
   "pygments_lexer": "ipython3",
   "version": "3.6.9"
  }
 },
 "nbformat": 4,
 "nbformat_minor": 4
}
